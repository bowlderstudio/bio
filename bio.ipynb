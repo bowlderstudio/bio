{
 "cells": [
  {
   "cell_type": "code",
   "execution_count": 77,
   "id": "9410880a",
   "metadata": {},
   "outputs": [],
   "source": [
    "import pandas as pd\n",
    "import numpy as np\n",
    "import matplotlib\n",
    "import matplotlib.pyplot as plt\n",
    "import seaborn as sns\n",
    "\n",
    "from sklearn.model_selection import train_test_split\n",
    "from sklearn.preprocessing import OrdinalEncoder\n",
    "from sklearn.preprocessing import LabelEncoder\n",
    "from sklearn.preprocessing import OneHotEncoder, StandardScaler\n",
    "from sklearn.preprocessing import LabelBinarizer\n",
    "from sklearn.preprocessing import MinMaxScaler\n",
    "from sklearn.compose import ColumnTransformer\n",
    "from sklearn.linear_model import LogisticRegression\n",
    "from sklearn.linear_model import LinearRegression\n",
    "from sklearn.pipeline import make_pipeline\n",
    "from sklearn.metrics import accuracy_score\n",
    "from sklearn.metrics import confusion_matrix\n",
    "from sklearn.metrics import roc_curve\n",
    "from sklearn.metrics import confusion_matrix\n",
    "from sklearn.metrics import mean_squared_error, r2_score\n",
    "from sklearn.metrics import roc_auc_score,precision_score,recall_score\n",
    "from sklearn.metrics import classification_report\n",
    "from sklearn.ensemble import HistGradientBoostingClassifier\n",
    "from sklearn.ensemble import GradientBoostingRegressor\n",
    "\n",
    "import tensorflow\n",
    "from tensorflow import keras\n",
    "from tensorflow.keras import models\n",
    "from tensorflow.keras.models import Sequential\n",
    "from tensorflow.keras.layers import Dense\n",
    "from tensorflow.keras import utils\n",
    "from tensorflow.keras import optimizers\n"
   ]
  },
  {
   "cell_type": "markdown",
   "id": "8656c2d4",
   "metadata": {},
   "source": [
    "# Load data to dataframe"
   ]
  },
  {
   "cell_type": "code",
   "execution_count": 78,
   "id": "fb1a339a",
   "metadata": {},
   "outputs": [
    {
     "data": {
      "text/html": [
       "<div>\n",
       "<style scoped>\n",
       "    .dataframe tbody tr th:only-of-type {\n",
       "        vertical-align: middle;\n",
       "    }\n",
       "\n",
       "    .dataframe tbody tr th {\n",
       "        vertical-align: top;\n",
       "    }\n",
       "\n",
       "    .dataframe thead th {\n",
       "        text-align: right;\n",
       "    }\n",
       "</style>\n",
       "<table border=\"1\" class=\"dataframe\">\n",
       "  <thead>\n",
       "    <tr style=\"text-align: right;\">\n",
       "      <th></th>\n",
       "      <th>Y</th>\n",
       "      <th>X1</th>\n",
       "      <th>X2</th>\n",
       "      <th>X3</th>\n",
       "      <th>X4</th>\n",
       "      <th>X5</th>\n",
       "      <th>X6</th>\n",
       "    </tr>\n",
       "  </thead>\n",
       "  <tbody>\n",
       "    <tr>\n",
       "      <th>0</th>\n",
       "      <td>5000</td>\n",
       "      <td>human</td>\n",
       "      <td>XSHSMRYFSTSVSWPGRGEPRFIAVGYVDDTQFVRFDSDAASPRGE...</td>\n",
       "      <td>XSHTLQRMFGCDLGPDGRLLRGYNQFAYDGKDYIALNEDLRSWTAA...</td>\n",
       "      <td>82.277778</td>\n",
       "      <td>106.555556</td>\n",
       "      <td>-4.522222e+01</td>\n",
       "    </tr>\n",
       "    <tr>\n",
       "      <th>1</th>\n",
       "      <td>138</td>\n",
       "      <td>human</td>\n",
       "      <td>XSHSMRYFSTSVSRPGRGEPRFIAVGYVDDTQFVRFDSDAASPRGE...</td>\n",
       "      <td>XSHTLQWMFGCDLGPDGRLLRGYDQSAYDGKDYIALNEDLRSWTAA...</td>\n",
       "      <td>79.444444</td>\n",
       "      <td>103.444444</td>\n",
       "      <td>-4.400000e+01</td>\n",
       "    </tr>\n",
       "    <tr>\n",
       "      <th>2</th>\n",
       "      <td>5000</td>\n",
       "      <td>human</td>\n",
       "      <td>XSHSMRYFSTSVSWPGRGEPRFIAVGYVDDTQFVRFDSDAASPRGE...</td>\n",
       "      <td>XSHTLQRMFGCDLGPDGRLLRGYNQFAYDGKDYIALNEDLRSWTAA...</td>\n",
       "      <td>79.444444</td>\n",
       "      <td>103.444444</td>\n",
       "      <td>-4.400000e+01</td>\n",
       "    </tr>\n",
       "    <tr>\n",
       "      <th>3</th>\n",
       "      <td>5000</td>\n",
       "      <td>human</td>\n",
       "      <td>XSHSMRYFSTSVSWPGRGEPRFIAVGYVDDTQFVRFDSDAASPRGE...</td>\n",
       "      <td>XSHTLQRMFGCDLGPDGRLLRGYNQFAYDGKDYIALNEDLRSWTAA...</td>\n",
       "      <td>85.444444</td>\n",
       "      <td>108.888889</td>\n",
       "      <td>-9.666667e+00</td>\n",
       "    </tr>\n",
       "    <tr>\n",
       "      <th>4</th>\n",
       "      <td>5000</td>\n",
       "      <td>human</td>\n",
       "      <td>XSHSMRYFSTSVSWPGRGEPRFIAVGYVDDTQFVRFDSDAASPRGE...</td>\n",
       "      <td>XSHTLQRMFGCDLGPDGRLLRGYNQFAYDGKDYIALNEDLRSWTAA...</td>\n",
       "      <td>50.611111</td>\n",
       "      <td>85.444444</td>\n",
       "      <td>1.233581e-15</td>\n",
       "    </tr>\n",
       "    <tr>\n",
       "      <th>...</th>\n",
       "      <td>...</td>\n",
       "      <td>...</td>\n",
       "      <td>...</td>\n",
       "      <td>...</td>\n",
       "      <td>...</td>\n",
       "      <td>...</td>\n",
       "      <td>...</td>\n",
       "    </tr>\n",
       "    <tr>\n",
       "      <th>1990</th>\n",
       "      <td>761</td>\n",
       "      <td>human</td>\n",
       "      <td>XSHSMRYFDTAVSRPGRGEPRFISVGYVDDTQFVRFDSDAASPRGE...</td>\n",
       "      <td>XSHTLQWMYGCDLGPDGRLLRGYDQSAYDGKDYIALNEDLRSWTAA...</td>\n",
       "      <td>82.000000</td>\n",
       "      <td>106.000000</td>\n",
       "      <td>-2.060000e+01</td>\n",
       "    </tr>\n",
       "    <tr>\n",
       "      <th>1991</th>\n",
       "      <td>1215</td>\n",
       "      <td>human</td>\n",
       "      <td>XSHSMRYFDTAVSRPGRGEPRFISVGYVDDTQFVRFDSDAASPRGE...</td>\n",
       "      <td>XSHTLQRMYGCDLGPDGRLLRGYDQSAYDGKDYIALNEDLRSWTAA...</td>\n",
       "      <td>82.000000</td>\n",
       "      <td>106.000000</td>\n",
       "      <td>-2.060000e+01</td>\n",
       "    </tr>\n",
       "    <tr>\n",
       "      <th>1992</th>\n",
       "      <td>2238</td>\n",
       "      <td>human</td>\n",
       "      <td>XSHSMRYFYTAVSRPGRGEPRFIAVGYVDDTQFVQFDSDAASPRGE...</td>\n",
       "      <td>XSHTLQRMYGCDLGPDGRLLRGYNQFAYDGKDYIALNEDLRSWTAA...</td>\n",
       "      <td>85.950000</td>\n",
       "      <td>112.600000</td>\n",
       "      <td>-1.800000e+00</td>\n",
       "    </tr>\n",
       "    <tr>\n",
       "      <th>1993</th>\n",
       "      <td>1981</td>\n",
       "      <td>human</td>\n",
       "      <td>XSHSMRYFYTAVSRPGRGEPRFIAVGYVDDTQFVQFDSDAASPRGE...</td>\n",
       "      <td>XSHTLQRMYGCDLGPDGRLLRGYNQFAYDGKDYIALNEDLRSWTAA...</td>\n",
       "      <td>83.650000</td>\n",
       "      <td>110.800000</td>\n",
       "      <td>-8.700000e+00</td>\n",
       "    </tr>\n",
       "    <tr>\n",
       "      <th>1994</th>\n",
       "      <td>1465</td>\n",
       "      <td>human</td>\n",
       "      <td>XSHSMRYFYTAVSRPGRGEPRFIAVGYVDDTQFVQFDSDAASPRGE...</td>\n",
       "      <td>XSHTLQRMYGCDLGPDGRLLRGYNQFAYDGKDYIALNEDLRSWTAA...</td>\n",
       "      <td>83.650000</td>\n",
       "      <td>110.800000</td>\n",
       "      <td>-1.070000e+01</td>\n",
       "    </tr>\n",
       "  </tbody>\n",
       "</table>\n",
       "<p>1995 rows × 7 columns</p>\n",
       "</div>"
      ],
      "text/plain": [
       "         Y     X1                                                 X2  \\\n",
       "0     5000  human  XSHSMRYFSTSVSWPGRGEPRFIAVGYVDDTQFVRFDSDAASPRGE...   \n",
       "1      138  human  XSHSMRYFSTSVSRPGRGEPRFIAVGYVDDTQFVRFDSDAASPRGE...   \n",
       "2     5000  human  XSHSMRYFSTSVSWPGRGEPRFIAVGYVDDTQFVRFDSDAASPRGE...   \n",
       "3     5000  human  XSHSMRYFSTSVSWPGRGEPRFIAVGYVDDTQFVRFDSDAASPRGE...   \n",
       "4     5000  human  XSHSMRYFSTSVSWPGRGEPRFIAVGYVDDTQFVRFDSDAASPRGE...   \n",
       "...    ...    ...                                                ...   \n",
       "1990   761  human  XSHSMRYFDTAVSRPGRGEPRFISVGYVDDTQFVRFDSDAASPRGE...   \n",
       "1991  1215  human  XSHSMRYFDTAVSRPGRGEPRFISVGYVDDTQFVRFDSDAASPRGE...   \n",
       "1992  2238  human  XSHSMRYFYTAVSRPGRGEPRFIAVGYVDDTQFVQFDSDAASPRGE...   \n",
       "1993  1981  human  XSHSMRYFYTAVSRPGRGEPRFIAVGYVDDTQFVQFDSDAASPRGE...   \n",
       "1994  1465  human  XSHSMRYFYTAVSRPGRGEPRFIAVGYVDDTQFVQFDSDAASPRGE...   \n",
       "\n",
       "                                                     X3         X4  \\\n",
       "0     XSHTLQRMFGCDLGPDGRLLRGYNQFAYDGKDYIALNEDLRSWTAA...  82.277778   \n",
       "1     XSHTLQWMFGCDLGPDGRLLRGYDQSAYDGKDYIALNEDLRSWTAA...  79.444444   \n",
       "2     XSHTLQRMFGCDLGPDGRLLRGYNQFAYDGKDYIALNEDLRSWTAA...  79.444444   \n",
       "3     XSHTLQRMFGCDLGPDGRLLRGYNQFAYDGKDYIALNEDLRSWTAA...  85.444444   \n",
       "4     XSHTLQRMFGCDLGPDGRLLRGYNQFAYDGKDYIALNEDLRSWTAA...  50.611111   \n",
       "...                                                 ...        ...   \n",
       "1990  XSHTLQWMYGCDLGPDGRLLRGYDQSAYDGKDYIALNEDLRSWTAA...  82.000000   \n",
       "1991  XSHTLQRMYGCDLGPDGRLLRGYDQSAYDGKDYIALNEDLRSWTAA...  82.000000   \n",
       "1992  XSHTLQRMYGCDLGPDGRLLRGYNQFAYDGKDYIALNEDLRSWTAA...  85.950000   \n",
       "1993  XSHTLQRMYGCDLGPDGRLLRGYNQFAYDGKDYIALNEDLRSWTAA...  83.650000   \n",
       "1994  XSHTLQRMYGCDLGPDGRLLRGYNQFAYDGKDYIALNEDLRSWTAA...  83.650000   \n",
       "\n",
       "              X5            X6  \n",
       "0     106.555556 -4.522222e+01  \n",
       "1     103.444444 -4.400000e+01  \n",
       "2     103.444444 -4.400000e+01  \n",
       "3     108.888889 -9.666667e+00  \n",
       "4      85.444444  1.233581e-15  \n",
       "...          ...           ...  \n",
       "1990  106.000000 -2.060000e+01  \n",
       "1991  106.000000 -2.060000e+01  \n",
       "1992  112.600000 -1.800000e+00  \n",
       "1993  110.800000 -8.700000e+00  \n",
       "1994  110.800000 -1.070000e+01  \n",
       "\n",
       "[1995 rows x 7 columns]"
      ]
     },
     "execution_count": 78,
     "metadata": {},
     "output_type": "execute_result"
    }
   ],
   "source": [
    "data_file=\"biological_data.csv\"\n",
    "df = pd.read_csv(data_file, index_col=0)\n",
    "df"
   ]
  },
  {
   "cell_type": "markdown",
   "id": "fed5ab8e",
   "metadata": {},
   "source": [
    "## Add ordinal code for string columns\n",
    "This will be used for calculating correlation between columns"
   ]
  },
  {
   "cell_type": "code",
   "execution_count": 79,
   "id": "3a4a76f9",
   "metadata": {},
   "outputs": [],
   "source": [
    "df['X1_code']=pd.Categorical(df['X1']).codes\n",
    "df['X2_code']=pd.Categorical(df['X2']).codes\n",
    "df['X3_code']=pd.Categorical(df['X3']).codes"
   ]
  },
  {
   "cell_type": "markdown",
   "id": "bd488417",
   "metadata": {},
   "source": [
    "## Add Y-class column\n",
    "\n",
    "Treat Y as binary categorical variable in some other models.To turn it to categorical use a cut-off at the value of Y=50.\n"
   ]
  },
  {
   "cell_type": "code",
   "execution_count": 80,
   "id": "68732606",
   "metadata": {},
   "outputs": [
    {
     "data": {
      "text/html": [
       "<div>\n",
       "<style scoped>\n",
       "    .dataframe tbody tr th:only-of-type {\n",
       "        vertical-align: middle;\n",
       "    }\n",
       "\n",
       "    .dataframe tbody tr th {\n",
       "        vertical-align: top;\n",
       "    }\n",
       "\n",
       "    .dataframe thead th {\n",
       "        text-align: right;\n",
       "    }\n",
       "</style>\n",
       "<table border=\"1\" class=\"dataframe\">\n",
       "  <thead>\n",
       "    <tr style=\"text-align: right;\">\n",
       "      <th></th>\n",
       "      <th>Y</th>\n",
       "      <th>X1</th>\n",
       "      <th>X2</th>\n",
       "      <th>X3</th>\n",
       "      <th>X4</th>\n",
       "      <th>X5</th>\n",
       "      <th>X6</th>\n",
       "      <th>X1_code</th>\n",
       "      <th>X2_code</th>\n",
       "      <th>X3_code</th>\n",
       "      <th>Y-class</th>\n",
       "    </tr>\n",
       "  </thead>\n",
       "  <tbody>\n",
       "    <tr>\n",
       "      <th>0</th>\n",
       "      <td>5000</td>\n",
       "      <td>human</td>\n",
       "      <td>XSHSMRYFSTSVSWPGRGEPRFIAVGYVDDTQFVRFDSDAASPRGE...</td>\n",
       "      <td>XSHTLQRMFGCDLGPDGRLLRGYNQFAYDGKDYIALNEDLRSWTAA...</td>\n",
       "      <td>82.277778</td>\n",
       "      <td>106.555556</td>\n",
       "      <td>-4.522222e+01</td>\n",
       "      <td>0</td>\n",
       "      <td>4</td>\n",
       "      <td>2</td>\n",
       "      <td>1</td>\n",
       "    </tr>\n",
       "    <tr>\n",
       "      <th>1</th>\n",
       "      <td>138</td>\n",
       "      <td>human</td>\n",
       "      <td>XSHSMRYFSTSVSRPGRGEPRFIAVGYVDDTQFVRFDSDAASPRGE...</td>\n",
       "      <td>XSHTLQWMFGCDLGPDGRLLRGYDQSAYDGKDYIALNEDLRSWTAA...</td>\n",
       "      <td>79.444444</td>\n",
       "      <td>103.444444</td>\n",
       "      <td>-4.400000e+01</td>\n",
       "      <td>0</td>\n",
       "      <td>3</td>\n",
       "      <td>7</td>\n",
       "      <td>1</td>\n",
       "    </tr>\n",
       "    <tr>\n",
       "      <th>2</th>\n",
       "      <td>5000</td>\n",
       "      <td>human</td>\n",
       "      <td>XSHSMRYFSTSVSWPGRGEPRFIAVGYVDDTQFVRFDSDAASPRGE...</td>\n",
       "      <td>XSHTLQRMFGCDLGPDGRLLRGYNQFAYDGKDYIALNEDLRSWTAA...</td>\n",
       "      <td>79.444444</td>\n",
       "      <td>103.444444</td>\n",
       "      <td>-4.400000e+01</td>\n",
       "      <td>0</td>\n",
       "      <td>4</td>\n",
       "      <td>2</td>\n",
       "      <td>1</td>\n",
       "    </tr>\n",
       "    <tr>\n",
       "      <th>3</th>\n",
       "      <td>5000</td>\n",
       "      <td>human</td>\n",
       "      <td>XSHSMRYFSTSVSWPGRGEPRFIAVGYVDDTQFVRFDSDAASPRGE...</td>\n",
       "      <td>XSHTLQRMFGCDLGPDGRLLRGYNQFAYDGKDYIALNEDLRSWTAA...</td>\n",
       "      <td>85.444444</td>\n",
       "      <td>108.888889</td>\n",
       "      <td>-9.666667e+00</td>\n",
       "      <td>0</td>\n",
       "      <td>4</td>\n",
       "      <td>2</td>\n",
       "      <td>1</td>\n",
       "    </tr>\n",
       "    <tr>\n",
       "      <th>4</th>\n",
       "      <td>5000</td>\n",
       "      <td>human</td>\n",
       "      <td>XSHSMRYFSTSVSWPGRGEPRFIAVGYVDDTQFVRFDSDAASPRGE...</td>\n",
       "      <td>XSHTLQRMFGCDLGPDGRLLRGYNQFAYDGKDYIALNEDLRSWTAA...</td>\n",
       "      <td>50.611111</td>\n",
       "      <td>85.444444</td>\n",
       "      <td>1.233581e-15</td>\n",
       "      <td>0</td>\n",
       "      <td>4</td>\n",
       "      <td>2</td>\n",
       "      <td>1</td>\n",
       "    </tr>\n",
       "    <tr>\n",
       "      <th>...</th>\n",
       "      <td>...</td>\n",
       "      <td>...</td>\n",
       "      <td>...</td>\n",
       "      <td>...</td>\n",
       "      <td>...</td>\n",
       "      <td>...</td>\n",
       "      <td>...</td>\n",
       "      <td>...</td>\n",
       "      <td>...</td>\n",
       "      <td>...</td>\n",
       "      <td>...</td>\n",
       "    </tr>\n",
       "    <tr>\n",
       "      <th>1990</th>\n",
       "      <td>761</td>\n",
       "      <td>human</td>\n",
       "      <td>XSHSMRYFDTAVSRPGRGEPRFISVGYVDDTQFVRFDSDAASPRGE...</td>\n",
       "      <td>XSHTLQWMYGCDLGPDGRLLRGYDQSAYDGKDYIALNEDLRSWTAA...</td>\n",
       "      <td>82.000000</td>\n",
       "      <td>106.000000</td>\n",
       "      <td>-2.060000e+01</td>\n",
       "      <td>0</td>\n",
       "      <td>0</td>\n",
       "      <td>8</td>\n",
       "      <td>1</td>\n",
       "    </tr>\n",
       "    <tr>\n",
       "      <th>1991</th>\n",
       "      <td>1215</td>\n",
       "      <td>human</td>\n",
       "      <td>XSHSMRYFDTAVSRPGRGEPRFISVGYVDDTQFVRFDSDAASPRGE...</td>\n",
       "      <td>XSHTLQRMYGCDLGPDGRLLRGYDQSAYDGKDYIALNEDLRSWTAA...</td>\n",
       "      <td>82.000000</td>\n",
       "      <td>106.000000</td>\n",
       "      <td>-2.060000e+01</td>\n",
       "      <td>0</td>\n",
       "      <td>2</td>\n",
       "      <td>4</td>\n",
       "      <td>1</td>\n",
       "    </tr>\n",
       "    <tr>\n",
       "      <th>1992</th>\n",
       "      <td>2238</td>\n",
       "      <td>human</td>\n",
       "      <td>XSHSMRYFYTAVSRPGRGEPRFIAVGYVDDTQFVQFDSDAASPRGE...</td>\n",
       "      <td>XSHTLQRMYGCDLGPDGRLLRGYNQFAYDGKDYIALNEDLRSWTAA...</td>\n",
       "      <td>85.950000</td>\n",
       "      <td>112.600000</td>\n",
       "      <td>-1.800000e+00</td>\n",
       "      <td>0</td>\n",
       "      <td>8</td>\n",
       "      <td>6</td>\n",
       "      <td>1</td>\n",
       "    </tr>\n",
       "    <tr>\n",
       "      <th>1993</th>\n",
       "      <td>1981</td>\n",
       "      <td>human</td>\n",
       "      <td>XSHSMRYFYTAVSRPGRGEPRFIAVGYVDDTQFVQFDSDAASPRGE...</td>\n",
       "      <td>XSHTLQRMYGCDLGPDGRLLRGYNQFAYDGKDYIALNEDLRSWTAA...</td>\n",
       "      <td>83.650000</td>\n",
       "      <td>110.800000</td>\n",
       "      <td>-8.700000e+00</td>\n",
       "      <td>0</td>\n",
       "      <td>8</td>\n",
       "      <td>6</td>\n",
       "      <td>1</td>\n",
       "    </tr>\n",
       "    <tr>\n",
       "      <th>1994</th>\n",
       "      <td>1465</td>\n",
       "      <td>human</td>\n",
       "      <td>XSHSMRYFYTAVSRPGRGEPRFIAVGYVDDTQFVQFDSDAASPRGE...</td>\n",
       "      <td>XSHTLQRMYGCDLGPDGRLLRGYNQFAYDGKDYIALNEDLRSWTAA...</td>\n",
       "      <td>83.650000</td>\n",
       "      <td>110.800000</td>\n",
       "      <td>-1.070000e+01</td>\n",
       "      <td>0</td>\n",
       "      <td>8</td>\n",
       "      <td>6</td>\n",
       "      <td>1</td>\n",
       "    </tr>\n",
       "  </tbody>\n",
       "</table>\n",
       "<p>1995 rows × 11 columns</p>\n",
       "</div>"
      ],
      "text/plain": [
       "         Y     X1                                                 X2  \\\n",
       "0     5000  human  XSHSMRYFSTSVSWPGRGEPRFIAVGYVDDTQFVRFDSDAASPRGE...   \n",
       "1      138  human  XSHSMRYFSTSVSRPGRGEPRFIAVGYVDDTQFVRFDSDAASPRGE...   \n",
       "2     5000  human  XSHSMRYFSTSVSWPGRGEPRFIAVGYVDDTQFVRFDSDAASPRGE...   \n",
       "3     5000  human  XSHSMRYFSTSVSWPGRGEPRFIAVGYVDDTQFVRFDSDAASPRGE...   \n",
       "4     5000  human  XSHSMRYFSTSVSWPGRGEPRFIAVGYVDDTQFVRFDSDAASPRGE...   \n",
       "...    ...    ...                                                ...   \n",
       "1990   761  human  XSHSMRYFDTAVSRPGRGEPRFISVGYVDDTQFVRFDSDAASPRGE...   \n",
       "1991  1215  human  XSHSMRYFDTAVSRPGRGEPRFISVGYVDDTQFVRFDSDAASPRGE...   \n",
       "1992  2238  human  XSHSMRYFYTAVSRPGRGEPRFIAVGYVDDTQFVQFDSDAASPRGE...   \n",
       "1993  1981  human  XSHSMRYFYTAVSRPGRGEPRFIAVGYVDDTQFVQFDSDAASPRGE...   \n",
       "1994  1465  human  XSHSMRYFYTAVSRPGRGEPRFIAVGYVDDTQFVQFDSDAASPRGE...   \n",
       "\n",
       "                                                     X3         X4  \\\n",
       "0     XSHTLQRMFGCDLGPDGRLLRGYNQFAYDGKDYIALNEDLRSWTAA...  82.277778   \n",
       "1     XSHTLQWMFGCDLGPDGRLLRGYDQSAYDGKDYIALNEDLRSWTAA...  79.444444   \n",
       "2     XSHTLQRMFGCDLGPDGRLLRGYNQFAYDGKDYIALNEDLRSWTAA...  79.444444   \n",
       "3     XSHTLQRMFGCDLGPDGRLLRGYNQFAYDGKDYIALNEDLRSWTAA...  85.444444   \n",
       "4     XSHTLQRMFGCDLGPDGRLLRGYNQFAYDGKDYIALNEDLRSWTAA...  50.611111   \n",
       "...                                                 ...        ...   \n",
       "1990  XSHTLQWMYGCDLGPDGRLLRGYDQSAYDGKDYIALNEDLRSWTAA...  82.000000   \n",
       "1991  XSHTLQRMYGCDLGPDGRLLRGYDQSAYDGKDYIALNEDLRSWTAA...  82.000000   \n",
       "1992  XSHTLQRMYGCDLGPDGRLLRGYNQFAYDGKDYIALNEDLRSWTAA...  85.950000   \n",
       "1993  XSHTLQRMYGCDLGPDGRLLRGYNQFAYDGKDYIALNEDLRSWTAA...  83.650000   \n",
       "1994  XSHTLQRMYGCDLGPDGRLLRGYNQFAYDGKDYIALNEDLRSWTAA...  83.650000   \n",
       "\n",
       "              X5            X6  X1_code  X2_code  X3_code  Y-class  \n",
       "0     106.555556 -4.522222e+01        0        4        2        1  \n",
       "1     103.444444 -4.400000e+01        0        3        7        1  \n",
       "2     103.444444 -4.400000e+01        0        4        2        1  \n",
       "3     108.888889 -9.666667e+00        0        4        2        1  \n",
       "4      85.444444  1.233581e-15        0        4        2        1  \n",
       "...          ...           ...      ...      ...      ...      ...  \n",
       "1990  106.000000 -2.060000e+01        0        0        8        1  \n",
       "1991  106.000000 -2.060000e+01        0        2        4        1  \n",
       "1992  112.600000 -1.800000e+00        0        8        6        1  \n",
       "1993  110.800000 -8.700000e+00        0        8        6        1  \n",
       "1994  110.800000 -1.070000e+01        0        8        6        1  \n",
       "\n",
       "[1995 rows x 11 columns]"
      ]
     },
     "execution_count": 80,
     "metadata": {},
     "output_type": "execute_result"
    }
   ],
   "source": [
    "df[\"Y-class\"]=np.where(df[\"Y\"]<=50, 0, 1)\n",
    "df"
   ]
  },
  {
   "cell_type": "code",
   "execution_count": 81,
   "id": "642d5126",
   "metadata": {},
   "outputs": [
    {
     "data": {
      "text/plain": [
       "Y-class\n",
       "0     508\n",
       "1    1487\n",
       "dtype: int64"
      ]
     },
     "execution_count": 81,
     "metadata": {},
     "output_type": "execute_result"
    }
   ],
   "source": [
    "#Display the number of data samples for each y class\n",
    "df.groupby(['Y-class']).size()"
   ]
  },
  {
   "cell_type": "markdown",
   "id": "3df52768",
   "metadata": {},
   "source": [
    "## Show heat map between columns"
   ]
  },
  {
   "cell_type": "code",
   "execution_count": 82,
   "id": "5884b975",
   "metadata": {},
   "outputs": [
    {
     "data": {
      "image/png": "[encoded data removed]",
      "text/plain": [
       "<Figure size 640x480 with 2 Axes>"
      ]
     },
     "metadata": {},
     "output_type": "display_data"
    }
   ],
   "source": [
    "# Calculate correlation between columns and show the heat map\n",
    "corr = df.corr()\n",
    "ax = sns.heatmap(\n",
    "    corr, \n",
    "    vmin=-1, vmax=1, center=0,\n",
    "    cmap=sns.diverging_palette(20, 220, n=200),\n",
    "    square=True\n",
    ")\n",
    "ax.set_xticklabels(\n",
    "    ax.get_xticklabels(),\n",
    "    rotation=45,\n",
    "    horizontalalignment='right'\n",
    ");"
   ]
  },
  {
   "cell_type": "markdown",
   "id": "df8e1072",
   "metadata": {},
   "source": [
    "# Data exploration"
   ]
  },
  {
   "cell_type": "code",
   "execution_count": 83,
   "id": "11e8e7ed",
   "metadata": {},
   "outputs": [
    {
     "data": {
      "text/html": [
       "<div>\n",
       "<style scoped>\n",
       "    .dataframe tbody tr th:only-of-type {\n",
       "        vertical-align: middle;\n",
       "    }\n",
       "\n",
       "    .dataframe tbody tr th {\n",
       "        vertical-align: top;\n",
       "    }\n",
       "\n",
       "    .dataframe thead th {\n",
       "        text-align: right;\n",
       "    }\n",
       "</style>\n",
       "<table border=\"1\" class=\"dataframe\">\n",
       "  <thead>\n",
       "    <tr style=\"text-align: right;\">\n",
       "      <th></th>\n",
       "      <th>Y</th>\n",
       "      <th>X4</th>\n",
       "      <th>X5</th>\n",
       "      <th>X6</th>\n",
       "      <th>X1_code</th>\n",
       "      <th>X2_code</th>\n",
       "      <th>X3_code</th>\n",
       "      <th>Y-class</th>\n",
       "    </tr>\n",
       "  </thead>\n",
       "  <tbody>\n",
       "    <tr>\n",
       "      <th>count</th>\n",
       "      <td>1995.000000</td>\n",
       "      <td>1995.000000</td>\n",
       "      <td>1995.000000</td>\n",
       "      <td>1995.000000</td>\n",
       "      <td>1995.0</td>\n",
       "      <td>1995.00000</td>\n",
       "      <td>1995.000000</td>\n",
       "      <td>1995.000000</td>\n",
       "    </tr>\n",
       "    <tr>\n",
       "      <th>mean</th>\n",
       "      <td>5853.522306</td>\n",
       "      <td>87.407331</td>\n",
       "      <td>111.003594</td>\n",
       "      <td>-34.522743</td>\n",
       "      <td>0.0</td>\n",
       "      <td>4.26416</td>\n",
       "      <td>4.234586</td>\n",
       "      <td>0.745363</td>\n",
       "    </tr>\n",
       "    <tr>\n",
       "      <th>std</th>\n",
       "      <td>8014.699598</td>\n",
       "      <td>13.840506</td>\n",
       "      <td>9.799072</td>\n",
       "      <td>28.323315</td>\n",
       "      <td>0.0</td>\n",
       "      <td>2.60331</td>\n",
       "      <td>2.837828</td>\n",
       "      <td>0.435766</td>\n",
       "    </tr>\n",
       "    <tr>\n",
       "      <th>min</th>\n",
       "      <td>0.000000</td>\n",
       "      <td>43.055556</td>\n",
       "      <td>78.333333</td>\n",
       "      <td>-123.777778</td>\n",
       "      <td>0.0</td>\n",
       "      <td>0.00000</td>\n",
       "      <td>0.000000</td>\n",
       "      <td>0.000000</td>\n",
       "    </tr>\n",
       "    <tr>\n",
       "      <th>25%</th>\n",
       "      <td>47.000000</td>\n",
       "      <td>78.305556</td>\n",
       "      <td>104.555556</td>\n",
       "      <td>-52.666667</td>\n",
       "      <td>0.0</td>\n",
       "      <td>3.00000</td>\n",
       "      <td>2.000000</td>\n",
       "      <td>0.000000</td>\n",
       "    </tr>\n",
       "    <tr>\n",
       "      <th>50%</th>\n",
       "      <td>1103.000000</td>\n",
       "      <td>87.500000</td>\n",
       "      <td>111.111111</td>\n",
       "      <td>-34.666667</td>\n",
       "      <td>0.0</td>\n",
       "      <td>4.00000</td>\n",
       "      <td>4.000000</td>\n",
       "      <td>1.000000</td>\n",
       "    </tr>\n",
       "    <tr>\n",
       "      <th>75%</th>\n",
       "      <td>5000.000000</td>\n",
       "      <td>97.722222</td>\n",
       "      <td>118.111111</td>\n",
       "      <td>-16.277778</td>\n",
       "      <td>0.0</td>\n",
       "      <td>6.00000</td>\n",
       "      <td>7.000000</td>\n",
       "      <td>1.000000</td>\n",
       "    </tr>\n",
       "    <tr>\n",
       "      <th>max</th>\n",
       "      <td>20000.000000</td>\n",
       "      <td>128.888889</td>\n",
       "      <td>142.777778</td>\n",
       "      <td>51.333333</td>\n",
       "      <td>0.0</td>\n",
       "      <td>9.00000</td>\n",
       "      <td>8.000000</td>\n",
       "      <td>1.000000</td>\n",
       "    </tr>\n",
       "  </tbody>\n",
       "</table>\n",
       "</div>"
      ],
      "text/plain": [
       "                  Y           X4           X5           X6  X1_code  \\\n",
       "count   1995.000000  1995.000000  1995.000000  1995.000000   1995.0   \n",
       "mean    5853.522306    87.407331   111.003594   -34.522743      0.0   \n",
       "std     8014.699598    13.840506     9.799072    28.323315      0.0   \n",
       "min        0.000000    43.055556    78.333333  -123.777778      0.0   \n",
       "25%       47.000000    78.305556   104.555556   -52.666667      0.0   \n",
       "50%     1103.000000    87.500000   111.111111   -34.666667      0.0   \n",
       "75%     5000.000000    97.722222   118.111111   -16.277778      0.0   \n",
       "max    20000.000000   128.888889   142.777778    51.333333      0.0   \n",
       "\n",
       "          X2_code      X3_code      Y-class  \n",
       "count  1995.00000  1995.000000  1995.000000  \n",
       "mean      4.26416     4.234586     0.745363  \n",
       "std       2.60331     2.837828     0.435766  \n",
       "min       0.00000     0.000000     0.000000  \n",
       "25%       3.00000     2.000000     0.000000  \n",
       "50%       4.00000     4.000000     1.000000  \n",
       "75%       6.00000     7.000000     1.000000  \n",
       "max       9.00000     8.000000     1.000000  "
      ]
     },
     "execution_count": 83,
     "metadata": {},
     "output_type": "execute_result"
    }
   ],
   "source": [
    "df.describe()"
   ]
  },
  {
   "cell_type": "code",
   "execution_count": 84,
   "id": "56999bd2",
   "metadata": {},
   "outputs": [
    {
     "data": {
      "image/png": "[encoded data removed]",
      "text/plain": [
       "<Figure size 1000x800 with 6 Axes>"
      ]
     },
     "metadata": {},
     "output_type": "display_data"
    }
   ],
   "source": [
    "#Show histogram graph for each column\n",
    "hist = df[[\"X2_code\",\"X3_code\",\"X4\",\"X5\",\"X6\",\"Y\"]].hist(figsize=(10, 8))"
   ]
  },
  {
   "cell_type": "code",
   "execution_count": 85,
   "id": "1572231f",
   "metadata": {},
   "outputs": [
    {
     "data": {
      "text/plain": [
       "(array(['human'], dtype=object), 1995)"
      ]
     },
     "execution_count": 85,
     "metadata": {},
     "output_type": "execute_result"
    }
   ],
   "source": [
    "# display all unique values of X1\n",
    "df.X1.unique(),df.X1.size"
   ]
  },
  {
   "cell_type": "code",
   "execution_count": 86,
   "id": "611ba0d8",
   "metadata": {},
   "outputs": [
    {
     "data": {
      "text/plain": [
       "(array(['XSHSMRYFSTSVSWPGRGEPRFIAVGYVDDTQFVRFDSDAASPRGEPREPWVEQEGPEYWDRETQKYKRQAQADRVNLRKLRGYYNQSED',\n",
       "        'XSHSMRYFSTSVSRPGRGEPRFIAVGYVDDTQFVRFDSDAASPRGEPRAPWVEQEGPEYWDRETQKYKRQAQTDRVSLRNLRGYYNQSEA',\n",
       "        'XSHSMRYFDTAVSRPGRGEPRFISVGYVDDTQFVRFDSDAASPRGEPRAPWVEQEGPEYWDRETQKYKRQAQADRVNLRKLRGYYNQSED',\n",
       "        'XSHSMRYFDTAVSRPGRGEPRFISVGYVDDTQFVRFDSDAASPRGEPRAPWVEQEGPEYWDRETQNYKRQAQADRVSLRNLRGYYNQSED',\n",
       "        'XSHSMRYFYTAVSRPGRGEPHFIAVGYVDDTQFVRFDSDAASPRGEPRAPWVEQEGPEYWDRETQKYKRQAQTDRVSLRNLRGYYNQSEA',\n",
       "        'XSHSMRYFYTAVSRPGRGEPRFIAVGYVDDTQFVQFDSDAASPRGEPRAPWVEQEGPEYWDRETQKYKRQAQTDRVNLRKLRGYYNQSEA',\n",
       "        'XSHSMRYFDTAVSRPGRGEPRFISVGYVDDTQFVRFDSDAASPRGEPRAPWVEQEGPEYWDRETQKYKRQAQADRVSLRNLRGYYNQSED',\n",
       "        'XSHSMRYFYTAVSRPGRGEPRFIAVGYVDDTQFVQFDSDAASPRGEPRAPWVEQEGPEYWDRETQKYKRQAQTDRVSLRNLRGYYNQSEA',\n",
       "        'XSHSMRYFYTAVSRPGRGEPHFIAVGYVDDTQFVRFDSDAASPRGEPRAPWVEQEGPEYWDRETQNYKRQAQTDRVNLRKLRGYYNQSEA',\n",
       "        'XSHSMRYFYTAVSRPGRGEPRFIAVGYVDDTQFVRFDSDAASPRGEPRAPWVEQEGPEYWDRETQKYKRQAQADRVSLRNLRGYYNQSEA'],\n",
       "       dtype=object),\n",
       " 1995)"
      ]
     },
     "execution_count": 86,
     "metadata": {},
     "output_type": "execute_result"
    }
   ],
   "source": [
    "# display all unique values of X2\n",
    "df.X2.unique(),df.X2.size"
   ]
  },
  {
   "cell_type": "code",
   "execution_count": 87,
   "id": "3c466595",
   "metadata": {},
   "outputs": [
    {
     "data": {
      "text/plain": [
       "(array(['XSHTLQRMFGCDLGPDGRLLRGYNQFAYDGKDYIALNEDLRSWTAADTAAQITQRKWEAAREAEQRRAYLEGTCVEWLRRYLENGKETLQRA',\n",
       "        'XSHTLQWMFGCDLGPDGRLLRGYDQSAYDGKDYIALNEDLRSWTAADTAAQITQRKWEAAREAEQRRAYLEGTCVEWLRRYLENGKETLQRA',\n",
       "        'XSHTLQWMYGCDLGPDGRLLRGYDQSAYDGKDYIALNEDLRSWTAADTAAQITQRKWEAAREAEQWRAYLEGTCVEWLRRYLENGKETLQRA',\n",
       "        'XSHTLQRMYGCDLGPDGRLLRGYDQSAYDGKDYIALNEDLRSWTAADTAAQITQRKLEAARAAEQLRAYLEGTCVEWLRRYLENGKETLQRA',\n",
       "        'XSHIIQRMYGCDVGPDGRLLRGYDQYAYDGKDYIALNEDLRSWTAADTAAQITQRKWEAAREAEQLRAYLEGLCVEWLRRYLKNGKETLQRA',\n",
       "        'XSHTLQRMYGCDLGPDGRLLRGYNQFAYDGKDYIALNEDLRSWTAADKAAQITQRKWEAAREAEQRRAYLEGTCVEWLRRYLENGKKTLQRA',\n",
       "        'XSHTLQRMSGCDLGPDGRLLRGYDQSAYDGKDYIALNEDLRSWTAADTAAQITQRKLEAARAAEQLRAYLEGTCVEWLRRYLENGKETLQRA',\n",
       "        'XSHIIQRMYGCDLGPDGRLLRGHDQLAYDGKDYIALNEDLRSWTAADTAAQITQRKWEAAREAEQLRAYLEGTCVEWLRRYLENGKETLQRA',\n",
       "        'XSHTLQRMYGCDLGPDGRLLRGYNQFAYDGKDYIALNEDLRSWTAADTAAQITQRKWEAARTAEQLRAYLEGTCVEWLRRYLENRKKTLQRA'],\n",
       "       dtype=object),\n",
       " 1995)"
      ]
     },
     "execution_count": 87,
     "metadata": {},
     "output_type": "execute_result"
    }
   ],
   "source": [
    "# display all unique values of X3\n",
    "df.X3.unique(),df.X3.size"
   ]
  },
  {
   "cell_type": "markdown",
   "id": "cad02290",
   "metadata": {},
   "source": [
    "# Classification models\n",
    "\n",
    "Three models has been applied:\n",
    "1. LogisticRegression\n",
    "2. HistGradientBoostingClassifier\n",
    "3. deep learning"
   ]
  },
  {
   "cell_type": "markdown",
   "id": "6a982c16",
   "metadata": {},
   "source": [
    "## 1. LogisticRegression"
   ]
  },
  {
   "cell_type": "markdown",
   "id": "681075b6",
   "metadata": {},
   "source": [
    "### Featuer engineering\n",
    "Apply one hot encoding on category columns and standard scaler on numerical columns"
   ]
  },
  {
   "cell_type": "code",
   "execution_count": 46,
   "id": "d7e5a79f",
   "metadata": {},
   "outputs": [],
   "source": [
    "#define category columns and numerical columns\n",
    "numerical_columns = ['X4', 'X5', 'X6']\n",
    "categorical_columns = ['X1', 'X2', 'X3']\n",
    "\n",
    "#Define encoding methods\n",
    "categorical_preprocessor = OrdinalEncoder()\n",
    "\n",
    "#Ordinal code on categorical columns and no encoding for the rest columns\n",
    "preprocessor = ColumnTransformer([\n",
    "    ('categorical', categorical_preprocessor, categorical_columns)],\n",
    "    remainder=\"passthrough\")"
   ]
  },
  {
   "cell_type": "markdown",
   "id": "3b421d2c",
   "metadata": {},
   "source": [
    "### Build model"
   ]
  },
  {
   "cell_type": "code",
   "execution_count": 93,
   "id": "3e271518",
   "metadata": {},
   "outputs": [
    {
     "data": {
      "text/html": [
       "<style>#sk-container-id-18 {color: black;background-color: white;}#sk-container-id-18 pre{padding: 0;}#sk-container-id-18 div.sk-toggleable {background-color: white;}#sk-container-id-18 label.sk-toggleable__label {cursor: pointer;display: block;width: 100%;margin-bottom: 0;padding: 0.3em;box-sizing: border-box;text-align: center;}#sk-container-id-18 label.sk-toggleable__label-arrow:before {content: \"▸\";float: left;margin-right: 0.25em;color: #696969;}#sk-container-id-18 label.sk-toggleable__label-arrow:hover:before {color: black;}#sk-container-id-18 div.sk-estimator:hover label.sk-toggleable__label-arrow:before {color: black;}#sk-container-id-18 div.sk-toggleable__content {max-height: 0;max-width: 0;overflow: hidden;text-align: left;background-color: #f0f8ff;}#sk-container-id-18 div.sk-toggleable__content pre {margin: 0.2em;color: black;border-radius: 0.25em;background-color: #f0f8ff;}#sk-container-id-18 input.sk-toggleable__control:checked~div.sk-toggleable__content {max-height: 200px;max-width: 100%;overflow: auto;}#sk-container-id-18 input.sk-toggleable__control:checked~label.sk-toggleable__label-arrow:before {content: \"▾\";}#sk-container-id-18 div.sk-estimator input.sk-toggleable__control:checked~label.sk-toggleable__label {background-color: #d4ebff;}#sk-container-id-18 div.sk-label input.sk-toggleable__control:checked~label.sk-toggleable__label {background-color: #d4ebff;}#sk-container-id-18 input.sk-hidden--visually {border: 0;clip: rect(1px 1px 1px 1px);clip: rect(1px, 1px, 1px, 1px);height: 1px;margin: -1px;overflow: hidden;padding: 0;position: absolute;width: 1px;}#sk-container-id-18 div.sk-estimator {font-family: monospace;background-color: #f0f8ff;border: 1px dotted black;border-radius: 0.25em;box-sizing: border-box;margin-bottom: 0.5em;}#sk-container-id-18 div.sk-estimator:hover {background-color: #d4ebff;}#sk-container-id-18 div.sk-parallel-item::after {content: \"\";width: 100%;border-bottom: 1px solid gray;flex-grow: 1;}#sk-container-id-18 div.sk-label:hover label.sk-toggleable__label {background-color: #d4ebff;}#sk-container-id-18 div.sk-serial::before {content: \"\";position: absolute;border-left: 1px solid gray;box-sizing: border-box;top: 0;bottom: 0;left: 50%;z-index: 0;}#sk-container-id-18 div.sk-serial {display: flex;flex-direction: column;align-items: center;background-color: white;padding-right: 0.2em;padding-left: 0.2em;position: relative;}#sk-container-id-18 div.sk-item {position: relative;z-index: 1;}#sk-container-id-18 div.sk-parallel {display: flex;align-items: stretch;justify-content: center;background-color: white;position: relative;}#sk-container-id-18 div.sk-item::before, #sk-container-id-18 div.sk-parallel-item::before {content: \"\";position: absolute;border-left: 1px solid gray;box-sizing: border-box;top: 0;bottom: 0;left: 50%;z-index: -1;}#sk-container-id-18 div.sk-parallel-item {display: flex;flex-direction: column;z-index: 1;position: relative;background-color: white;}#sk-container-id-18 div.sk-parallel-item:first-child::after {align-self: flex-end;width: 50%;}#sk-container-id-18 div.sk-parallel-item:last-child::after {align-self: flex-start;width: 50%;}#sk-container-id-18 div.sk-parallel-item:only-child::after {width: 0;}#sk-container-id-18 div.sk-dashed-wrapped {border: 1px dashed gray;margin: 0 0.4em 0.5em 0.4em;box-sizing: border-box;padding-bottom: 0.4em;background-color: white;}#sk-container-id-18 div.sk-label label {font-family: monospace;font-weight: bold;display: inline-block;line-height: 1.2em;}#sk-container-id-18 div.sk-label-container {text-align: center;}#sk-container-id-18 div.sk-container {/* jupyter's `normalize.less` sets `[hidden] { display: none; }` but bootstrap.min.css set `[hidden] { display: none !important; }` so we also need the `!important` here to be able to override the default hidden behavior on the sphinx rendered scikit-learn.org. See: https://github.com/scikit-learn/scikit-learn/issues/21755 */display: inline-block !important;position: relative;}#sk-container-id-18 div.sk-text-repr-fallback {display: none;}</style><div id=\"sk-container-id-18\" class=\"sk-top-container\"><div class=\"sk-text-repr-fallback\"><pre>Pipeline(steps=[(&#x27;columntransformer&#x27;,\n",
       "                 ColumnTransformer(remainder=&#x27;passthrough&#x27;,\n",
       "                                   transformers=[(&#x27;categorical&#x27;,\n",
       "                                                  OrdinalEncoder(),\n",
       "                                                  [&#x27;X1&#x27;, &#x27;X2&#x27;, &#x27;X3&#x27;])])),\n",
       "                (&#x27;logisticregression&#x27;, LogisticRegression(max_iter=500))])</pre><b>In a Jupyter environment, please rerun this cell to show the HTML representation or trust the notebook. <br />On GitHub, the HTML representation is unable to render, please try loading this page with nbviewer.org.</b></div><div class=\"sk-container\" hidden><div class=\"sk-item sk-dashed-wrapped\"><div class=\"sk-label-container\"><div class=\"sk-label sk-toggleable\"><input class=\"sk-toggleable__control sk-hidden--visually\" id=\"sk-estimator-id-120\" type=\"checkbox\" ><label for=\"sk-estimator-id-120\" class=\"sk-toggleable__label sk-toggleable__label-arrow\">Pipeline</label><div class=\"sk-toggleable__content\"><pre>Pipeline(steps=[(&#x27;columntransformer&#x27;,\n",
       "                 ColumnTransformer(remainder=&#x27;passthrough&#x27;,\n",
       "                                   transformers=[(&#x27;categorical&#x27;,\n",
       "                                                  OrdinalEncoder(),\n",
       "                                                  [&#x27;X1&#x27;, &#x27;X2&#x27;, &#x27;X3&#x27;])])),\n",
       "                (&#x27;logisticregression&#x27;, LogisticRegression(max_iter=500))])</pre></div></div></div><div class=\"sk-serial\"><div class=\"sk-item sk-dashed-wrapped\"><div class=\"sk-label-container\"><div class=\"sk-label sk-toggleable\"><input class=\"sk-toggleable__control sk-hidden--visually\" id=\"sk-estimator-id-121\" type=\"checkbox\" ><label for=\"sk-estimator-id-121\" class=\"sk-toggleable__label sk-toggleable__label-arrow\">columntransformer: ColumnTransformer</label><div class=\"sk-toggleable__content\"><pre>ColumnTransformer(remainder=&#x27;passthrough&#x27;,\n",
       "                  transformers=[(&#x27;categorical&#x27;, OrdinalEncoder(),\n",
       "                                 [&#x27;X1&#x27;, &#x27;X2&#x27;, &#x27;X3&#x27;])])</pre></div></div></div><div class=\"sk-parallel\"><div class=\"sk-parallel-item\"><div class=\"sk-item\"><div class=\"sk-label-container\"><div class=\"sk-label sk-toggleable\"><input class=\"sk-toggleable__control sk-hidden--visually\" id=\"sk-estimator-id-122\" type=\"checkbox\" ><label for=\"sk-estimator-id-122\" class=\"sk-toggleable__label sk-toggleable__label-arrow\">categorical</label><div class=\"sk-toggleable__content\"><pre>[&#x27;X1&#x27;, &#x27;X2&#x27;, &#x27;X3&#x27;]</pre></div></div></div><div class=\"sk-serial\"><div class=\"sk-item\"><div class=\"sk-estimator sk-toggleable\"><input class=\"sk-toggleable__control sk-hidden--visually\" id=\"sk-estimator-id-123\" type=\"checkbox\" ><label for=\"sk-estimator-id-123\" class=\"sk-toggleable__label sk-toggleable__label-arrow\">OrdinalEncoder</label><div class=\"sk-toggleable__content\"><pre>OrdinalEncoder()</pre></div></div></div></div></div></div><div class=\"sk-parallel-item\"><div class=\"sk-item\"><div class=\"sk-label-container\"><div class=\"sk-label sk-toggleable\"><input class=\"sk-toggleable__control sk-hidden--visually\" id=\"sk-estimator-id-124\" type=\"checkbox\" ><label for=\"sk-estimator-id-124\" class=\"sk-toggleable__label sk-toggleable__label-arrow\">remainder</label><div class=\"sk-toggleable__content\"><pre></pre></div></div></div><div class=\"sk-serial\"><div class=\"sk-item\"><div class=\"sk-estimator sk-toggleable\"><input class=\"sk-toggleable__control sk-hidden--visually\" id=\"sk-estimator-id-125\" type=\"checkbox\" ><label for=\"sk-estimator-id-125\" class=\"sk-toggleable__label sk-toggleable__label-arrow\">passthrough</label><div class=\"sk-toggleable__content\"><pre>passthrough</pre></div></div></div></div></div></div></div></div><div class=\"sk-item\"><div class=\"sk-estimator sk-toggleable\"><input class=\"sk-toggleable__control sk-hidden--visually\" id=\"sk-estimator-id-126\" type=\"checkbox\" ><label for=\"sk-estimator-id-126\" class=\"sk-toggleable__label sk-toggleable__label-arrow\">LogisticRegression</label><div class=\"sk-toggleable__content\"><pre>LogisticRegression(max_iter=500)</pre></div></div></div></div></div></div></div>"
      ],
      "text/plain": [
       "Pipeline(steps=[('columntransformer',\n",
       "                 ColumnTransformer(remainder='passthrough',\n",
       "                                   transformers=[('categorical',\n",
       "                                                  OrdinalEncoder(),\n",
       "                                                  ['X1', 'X2', 'X3'])])),\n",
       "                ('logisticregression', LogisticRegression(max_iter=500))])"
      ]
     },
     "execution_count": 93,
     "metadata": {},
     "output_type": "execute_result"
    }
   ],
   "source": [
    "model = make_pipeline(preprocessor, LogisticRegression(max_iter=500))\n",
    "model"
   ]
  },
  {
   "cell_type": "code",
   "execution_count": 94,
   "id": "3186dbc8",
   "metadata": {},
   "outputs": [],
   "source": [
    "#Define model input features and output lable for training data\n",
    "data_y = df[\"Y-class\"]\n",
    "data_x = df.drop(columns=[\"Y-class\",\"Y\",\"X1_code\",\"X2_code\",\"X3_code\"])"
   ]
  },
  {
   "cell_type": "code",
   "execution_count": 95,
   "id": "29ee5f0c",
   "metadata": {},
   "outputs": [],
   "source": [
    "#Split the dataset into two subset, train subset and test subtset\n",
    "#The same train and test data will be used for all the classificiation models\n",
    "x_train, x_test, y_train, y_test = train_test_split(\n",
    "    data_x, data_y, random_state=123)"
   ]
  },
  {
   "cell_type": "code",
   "execution_count": 96,
   "id": "307ec8f0",
   "metadata": {},
   "outputs": [
    {
     "data": {
      "text/html": [
       "<style>#sk-container-id-19 {color: black;background-color: white;}#sk-container-id-19 pre{padding: 0;}#sk-container-id-19 div.sk-toggleable {background-color: white;}#sk-container-id-19 label.sk-toggleable__label {cursor: pointer;display: block;width: 100%;margin-bottom: 0;padding: 0.3em;box-sizing: border-box;text-align: center;}#sk-container-id-19 label.sk-toggleable__label-arrow:before {content: \"▸\";float: left;margin-right: 0.25em;color: #696969;}#sk-container-id-19 label.sk-toggleable__label-arrow:hover:before {color: black;}#sk-container-id-19 div.sk-estimator:hover label.sk-toggleable__label-arrow:before {color: black;}#sk-container-id-19 div.sk-toggleable__content {max-height: 0;max-width: 0;overflow: hidden;text-align: left;background-color: #f0f8ff;}#sk-container-id-19 div.sk-toggleable__content pre {margin: 0.2em;color: black;border-radius: 0.25em;background-color: #f0f8ff;}#sk-container-id-19 input.sk-toggleable__control:checked~div.sk-toggleable__content {max-height: 200px;max-width: 100%;overflow: auto;}#sk-container-id-19 input.sk-toggleable__control:checked~label.sk-toggleable__label-arrow:before {content: \"▾\";}#sk-container-id-19 div.sk-estimator input.sk-toggleable__control:checked~label.sk-toggleable__label {background-color: #d4ebff;}#sk-container-id-19 div.sk-label input.sk-toggleable__control:checked~label.sk-toggleable__label {background-color: #d4ebff;}#sk-container-id-19 input.sk-hidden--visually {border: 0;clip: rect(1px 1px 1px 1px);clip: rect(1px, 1px, 1px, 1px);height: 1px;margin: -1px;overflow: hidden;padding: 0;position: absolute;width: 1px;}#sk-container-id-19 div.sk-estimator {font-family: monospace;background-color: #f0f8ff;border: 1px dotted black;border-radius: 0.25em;box-sizing: border-box;margin-bottom: 0.5em;}#sk-container-id-19 div.sk-estimator:hover {background-color: #d4ebff;}#sk-container-id-19 div.sk-parallel-item::after {content: \"\";width: 100%;border-bottom: 1px solid gray;flex-grow: 1;}#sk-container-id-19 div.sk-label:hover label.sk-toggleable__label {background-color: #d4ebff;}#sk-container-id-19 div.sk-serial::before {content: \"\";position: absolute;border-left: 1px solid gray;box-sizing: border-box;top: 0;bottom: 0;left: 50%;z-index: 0;}#sk-container-id-19 div.sk-serial {display: flex;flex-direction: column;align-items: center;background-color: white;padding-right: 0.2em;padding-left: 0.2em;position: relative;}#sk-container-id-19 div.sk-item {position: relative;z-index: 1;}#sk-container-id-19 div.sk-parallel {display: flex;align-items: stretch;justify-content: center;background-color: white;position: relative;}#sk-container-id-19 div.sk-item::before, #sk-container-id-19 div.sk-parallel-item::before {content: \"\";position: absolute;border-left: 1px solid gray;box-sizing: border-box;top: 0;bottom: 0;left: 50%;z-index: -1;}#sk-container-id-19 div.sk-parallel-item {display: flex;flex-direction: column;z-index: 1;position: relative;background-color: white;}#sk-container-id-19 div.sk-parallel-item:first-child::after {align-self: flex-end;width: 50%;}#sk-container-id-19 div.sk-parallel-item:last-child::after {align-self: flex-start;width: 50%;}#sk-container-id-19 div.sk-parallel-item:only-child::after {width: 0;}#sk-container-id-19 div.sk-dashed-wrapped {border: 1px dashed gray;margin: 0 0.4em 0.5em 0.4em;box-sizing: border-box;padding-bottom: 0.4em;background-color: white;}#sk-container-id-19 div.sk-label label {font-family: monospace;font-weight: bold;display: inline-block;line-height: 1.2em;}#sk-container-id-19 div.sk-label-container {text-align: center;}#sk-container-id-19 div.sk-container {/* jupyter's `normalize.less` sets `[hidden] { display: none; }` but bootstrap.min.css set `[hidden] { display: none !important; }` so we also need the `!important` here to be able to override the default hidden behavior on the sphinx rendered scikit-learn.org. See: https://github.com/scikit-learn/scikit-learn/issues/21755 */display: inline-block !important;position: relative;}#sk-container-id-19 div.sk-text-repr-fallback {display: none;}</style><div id=\"sk-container-id-19\" class=\"sk-top-container\"><div class=\"sk-text-repr-fallback\"><pre>Pipeline(steps=[(&#x27;columntransformer&#x27;,\n",
       "                 ColumnTransformer(remainder=&#x27;passthrough&#x27;,\n",
       "                                   transformers=[(&#x27;categorical&#x27;,\n",
       "                                                  OrdinalEncoder(),\n",
       "                                                  [&#x27;X1&#x27;, &#x27;X2&#x27;, &#x27;X3&#x27;])])),\n",
       "                (&#x27;logisticregression&#x27;, LogisticRegression(max_iter=500))])</pre><b>In a Jupyter environment, please rerun this cell to show the HTML representation or trust the notebook. <br />On GitHub, the HTML representation is unable to render, please try loading this page with nbviewer.org.</b></div><div class=\"sk-container\" hidden><div class=\"sk-item sk-dashed-wrapped\"><div class=\"sk-label-container\"><div class=\"sk-label sk-toggleable\"><input class=\"sk-toggleable__control sk-hidden--visually\" id=\"sk-estimator-id-127\" type=\"checkbox\" ><label for=\"sk-estimator-id-127\" class=\"sk-toggleable__label sk-toggleable__label-arrow\">Pipeline</label><div class=\"sk-toggleable__content\"><pre>Pipeline(steps=[(&#x27;columntransformer&#x27;,\n",
       "                 ColumnTransformer(remainder=&#x27;passthrough&#x27;,\n",
       "                                   transformers=[(&#x27;categorical&#x27;,\n",
       "                                                  OrdinalEncoder(),\n",
       "                                                  [&#x27;X1&#x27;, &#x27;X2&#x27;, &#x27;X3&#x27;])])),\n",
       "                (&#x27;logisticregression&#x27;, LogisticRegression(max_iter=500))])</pre></div></div></div><div class=\"sk-serial\"><div class=\"sk-item sk-dashed-wrapped\"><div class=\"sk-label-container\"><div class=\"sk-label sk-toggleable\"><input class=\"sk-toggleable__control sk-hidden--visually\" id=\"sk-estimator-id-128\" type=\"checkbox\" ><label for=\"sk-estimator-id-128\" class=\"sk-toggleable__label sk-toggleable__label-arrow\">columntransformer: ColumnTransformer</label><div class=\"sk-toggleable__content\"><pre>ColumnTransformer(remainder=&#x27;passthrough&#x27;,\n",
       "                  transformers=[(&#x27;categorical&#x27;, OrdinalEncoder(),\n",
       "                                 [&#x27;X1&#x27;, &#x27;X2&#x27;, &#x27;X3&#x27;])])</pre></div></div></div><div class=\"sk-parallel\"><div class=\"sk-parallel-item\"><div class=\"sk-item\"><div class=\"sk-label-container\"><div class=\"sk-label sk-toggleable\"><input class=\"sk-toggleable__control sk-hidden--visually\" id=\"sk-estimator-id-129\" type=\"checkbox\" ><label for=\"sk-estimator-id-129\" class=\"sk-toggleable__label sk-toggleable__label-arrow\">categorical</label><div class=\"sk-toggleable__content\"><pre>[&#x27;X1&#x27;, &#x27;X2&#x27;, &#x27;X3&#x27;]</pre></div></div></div><div class=\"sk-serial\"><div class=\"sk-item\"><div class=\"sk-estimator sk-toggleable\"><input class=\"sk-toggleable__control sk-hidden--visually\" id=\"sk-estimator-id-130\" type=\"checkbox\" ><label for=\"sk-estimator-id-130\" class=\"sk-toggleable__label sk-toggleable__label-arrow\">OrdinalEncoder</label><div class=\"sk-toggleable__content\"><pre>OrdinalEncoder()</pre></div></div></div></div></div></div><div class=\"sk-parallel-item\"><div class=\"sk-item\"><div class=\"sk-label-container\"><div class=\"sk-label sk-toggleable\"><input class=\"sk-toggleable__control sk-hidden--visually\" id=\"sk-estimator-id-131\" type=\"checkbox\" ><label for=\"sk-estimator-id-131\" class=\"sk-toggleable__label sk-toggleable__label-arrow\">remainder</label><div class=\"sk-toggleable__content\"><pre>[&#x27;X4&#x27;, &#x27;X5&#x27;, &#x27;X6&#x27;]</pre></div></div></div><div class=\"sk-serial\"><div class=\"sk-item\"><div class=\"sk-estimator sk-toggleable\"><input class=\"sk-toggleable__control sk-hidden--visually\" id=\"sk-estimator-id-132\" type=\"checkbox\" ><label for=\"sk-estimator-id-132\" class=\"sk-toggleable__label sk-toggleable__label-arrow\">passthrough</label><div class=\"sk-toggleable__content\"><pre>passthrough</pre></div></div></div></div></div></div></div></div><div class=\"sk-item\"><div class=\"sk-estimator sk-toggleable\"><input class=\"sk-toggleable__control sk-hidden--visually\" id=\"sk-estimator-id-133\" type=\"checkbox\" ><label for=\"sk-estimator-id-133\" class=\"sk-toggleable__label sk-toggleable__label-arrow\">LogisticRegression</label><div class=\"sk-toggleable__content\"><pre>LogisticRegression(max_iter=500)</pre></div></div></div></div></div></div></div>"
      ],
      "text/plain": [
       "Pipeline(steps=[('columntransformer',\n",
       "                 ColumnTransformer(remainder='passthrough',\n",
       "                                   transformers=[('categorical',\n",
       "                                                  OrdinalEncoder(),\n",
       "                                                  ['X1', 'X2', 'X3'])])),\n",
       "                ('logisticregression', LogisticRegression(max_iter=500))])"
      ]
     },
     "execution_count": 96,
     "metadata": {},
     "output_type": "execute_result"
    }
   ],
   "source": [
    "model.fit(x_train, y_train)"
   ]
  },
  {
   "cell_type": "markdown",
   "id": "5ef7e6a5",
   "metadata": {},
   "source": [
    "### Test and evaluate classificiation model"
   ]
  },
  {
   "cell_type": "code",
   "execution_count": 97,
   "id": "1022f1ed",
   "metadata": {},
   "outputs": [],
   "source": [
    "#Define the method to evaluate classification model\n",
    "#All the classification models are evaluated using the same function\n",
    "def classification_evaluation(y_test, y_predict, y_scores):\n",
    "    conf_maxtrix = confusion_matrix(y_test, y_predict)\n",
    "    auc = roc_auc_score(y_test,y_scores)\n",
    "    \n",
    "    #print the metrics results\n",
    "    print (f\"Confusion Matrix: \\r\\n {conf_maxtrix}\")\n",
    "    print(f\"Accuracy:{accuracy_score(y_test, y_predict)}\")\n",
    "    print(f\"AUC: {str(auc)}\")\n",
    "    print(f\"Overall Precision:{precision_score(y_test, y_predict)}\")\n",
    "    print(f\"Overall Recall:{recall_score(y_test, y_predict)}\")\n",
    "    print(\"Classification report\")\n",
    "    print(classification_report(y_test, y_predict))\n",
    "    #Calculate ROC curve\n",
    "    false_positive_rate, true_positive_rate, thresholds = roc_curve(y_test, y_scores)\n",
    "\n",
    "    #Plot ROC curve\n",
    "    fig = plt.figure(figsize=(4, 4))\n",
    "    #Plot the diagonal line\n",
    "    plt.plot([0, 1], [0, 1], 'k--')\n",
    "    #Plot the false/true positive rate\n",
    "    plt.plot(false_positive_rate, true_positive_rate)\n",
    "    plt.xlabel(\"False Positive Rate\")\n",
    "    plt.ylabel(\"True Positive Rate\")\n",
    "    plt.title(\"ROC Curve\")\n",
    "    plt.show()\n",
    "    return false_positive_rate, true_positive_rate"
   ]
  },
  {
   "cell_type": "code",
   "execution_count": 98,
   "id": "e02b75c0",
   "metadata": {},
   "outputs": [],
   "source": [
    "#Predict on test data\n",
    "y_predict=model.predict(x_test)\n",
    "y_scores = model.predict_proba(x_test)"
   ]
  },
  {
   "cell_type": "code",
   "execution_count": 99,
   "id": "52cd5e84",
   "metadata": {},
   "outputs": [
    {
     "name": "stdout",
     "output_type": "stream",
     "text": [
      "Confusion Matrix: \r\n",
      " [[  5 113]\n",
      " [  7 374]]\n",
      "Accuracy:0.7595190380761523\n",
      "AUC: 0.654099381645091\n",
      "Overall Precision:0.7679671457905544\n",
      "Overall Recall:0.9816272965879265\n",
      "Classification report\n",
      "              precision    recall  f1-score   support\n",
      "\n",
      "           0       0.42      0.04      0.08       118\n",
      "           1       0.77      0.98      0.86       381\n",
      "\n",
      "    accuracy                           0.76       499\n",
      "   macro avg       0.59      0.51      0.47       499\n",
      "weighted avg       0.68      0.76      0.68       499\n",
      "\n"
     ]
    },
    {
     "data": {
      "image/png": "[encoded data removed]",
      "text/plain": [
       "<Figure size 400x400 with 1 Axes>"
      ]
     },
     "metadata": {},
     "output_type": "display_data"
    }
   ],
   "source": [
    "#Evaluate results\n",
    "fpr_linear,tpr_linear=classification_evaluation(y_test,y_predict,y_scores[:,1])"
   ]
  },
  {
   "cell_type": "markdown",
   "id": "00ed9c50",
   "metadata": {},
   "source": [
    "## 2. HistGradientBoostingClassifier"
   ]
  },
  {
   "cell_type": "markdown",
   "id": "f250925d",
   "metadata": {},
   "source": [
    "### Featuer engineering"
   ]
  },
  {
   "cell_type": "code",
   "execution_count": 100,
   "id": "28f59ebc",
   "metadata": {},
   "outputs": [],
   "source": [
    "#Define encoding methods\n",
    "categorical_preprocessor = OrdinalEncoder()\n",
    "\n",
    "#Ordinal code on categorical columns and no encoding for the rest columns\n",
    "preprocessor = ColumnTransformer([\n",
    "    ('categorical', categorical_preprocessor, categorical_columns)],\n",
    "    remainder=\"passthrough\")"
   ]
  },
  {
   "cell_type": "markdown",
   "id": "fb947f2c",
   "metadata": {},
   "source": [
    "### Build model"
   ]
  },
  {
   "cell_type": "code",
   "execution_count": 101,
   "id": "1ddb9a12",
   "metadata": {},
   "outputs": [
    {
     "data": {
      "text/html": [
       "<div>\n",
       "<style scoped>\n",
       "    .dataframe tbody tr th:only-of-type {\n",
       "        vertical-align: middle;\n",
       "    }\n",
       "\n",
       "    .dataframe tbody tr th {\n",
       "        vertical-align: top;\n",
       "    }\n",
       "\n",
       "    .dataframe thead th {\n",
       "        text-align: right;\n",
       "    }\n",
       "</style>\n",
       "<table border=\"1\" class=\"dataframe\">\n",
       "  <thead>\n",
       "    <tr style=\"text-align: right;\">\n",
       "      <th></th>\n",
       "      <th>X1</th>\n",
       "      <th>X2</th>\n",
       "      <th>X3</th>\n",
       "      <th>X4</th>\n",
       "      <th>X5</th>\n",
       "      <th>X6</th>\n",
       "    </tr>\n",
       "  </thead>\n",
       "  <tbody>\n",
       "    <tr>\n",
       "      <th>1234</th>\n",
       "      <td>human</td>\n",
       "      <td>XSHSMRYFDTAVSRPGRGEPRFISVGYVDDTQFVRFDSDAASPRGE...</td>\n",
       "      <td>XSHTLQRMSGCDLGPDGRLLRGYDQSAYDGKDYIALNEDLRSWTAA...</td>\n",
       "      <td>90.000000</td>\n",
       "      <td>110.666667</td>\n",
       "      <td>-65.222222</td>\n",
       "    </tr>\n",
       "    <tr>\n",
       "      <th>406</th>\n",
       "      <td>human</td>\n",
       "      <td>XSHSMRYFSTSVSWPGRGEPRFIAVGYVDDTQFVRFDSDAASPRGE...</td>\n",
       "      <td>XSHTLQRMFGCDLGPDGRLLRGYNQFAYDGKDYIALNEDLRSWTAA...</td>\n",
       "      <td>87.055556</td>\n",
       "      <td>113.666667</td>\n",
       "      <td>-28.888889</td>\n",
       "    </tr>\n",
       "    <tr>\n",
       "      <th>1461</th>\n",
       "      <td>human</td>\n",
       "      <td>XSHSMRYFSTSVSRPGRGEPRFIAVGYVDDTQFVRFDSDAASPRGE...</td>\n",
       "      <td>XSHTLQWMFGCDLGPDGRLLRGYDQSAYDGKDYIALNEDLRSWTAA...</td>\n",
       "      <td>108.555556</td>\n",
       "      <td>124.888889</td>\n",
       "      <td>-52.222222</td>\n",
       "    </tr>\n",
       "    <tr>\n",
       "      <th>1039</th>\n",
       "      <td>human</td>\n",
       "      <td>XSHSMRYFDTAVSRPGRGEPRFISVGYVDDTQFVRFDSDAASPRGE...</td>\n",
       "      <td>XSHTLQWMYGCDLGPDGRLLRGYDQSAYDGKDYIALNEDLRSWTAA...</td>\n",
       "      <td>126.500000</td>\n",
       "      <td>139.000000</td>\n",
       "      <td>-59.333333</td>\n",
       "    </tr>\n",
       "    <tr>\n",
       "      <th>1940</th>\n",
       "      <td>human</td>\n",
       "      <td>XSHSMRYFYTAVSRPGRGEPRFIAVGYVDDTQFVRFDSDAASPRGE...</td>\n",
       "      <td>XSHTLQWMYGCDLGPDGRLLRGYDQSAYDGKDYIALNEDLRSWTAA...</td>\n",
       "      <td>75.000000</td>\n",
       "      <td>103.666667</td>\n",
       "      <td>-38.888889</td>\n",
       "    </tr>\n",
       "    <tr>\n",
       "      <th>...</th>\n",
       "      <td>...</td>\n",
       "      <td>...</td>\n",
       "      <td>...</td>\n",
       "      <td>...</td>\n",
       "      <td>...</td>\n",
       "      <td>...</td>\n",
       "    </tr>\n",
       "    <tr>\n",
       "      <th>1122</th>\n",
       "      <td>human</td>\n",
       "      <td>XSHSMRYFDTAVSRPGRGEPRFISVGYVDDTQFVRFDSDAASPRGE...</td>\n",
       "      <td>XSHTLQWMYGCDLGPDGRLLRGYDQSAYDGKDYIALNEDLRSWTAA...</td>\n",
       "      <td>60.222222</td>\n",
       "      <td>91.111111</td>\n",
       "      <td>12.000000</td>\n",
       "    </tr>\n",
       "    <tr>\n",
       "      <th>1346</th>\n",
       "      <td>human</td>\n",
       "      <td>XSHSMRYFYTAVSRPGRGEPRFIAVGYVDDTQFVQFDSDAASPRGE...</td>\n",
       "      <td>XSHTLQRMYGCDLGPDGRLLRGYNQFAYDGKDYIALNEDLRSWTAA...</td>\n",
       "      <td>89.000000</td>\n",
       "      <td>110.222222</td>\n",
       "      <td>-51.444444</td>\n",
       "    </tr>\n",
       "    <tr>\n",
       "      <th>1406</th>\n",
       "      <td>human</td>\n",
       "      <td>XSHSMRYFYTAVSRPGRGEPRFIAVGYVDDTQFVQFDSDAASPRGE...</td>\n",
       "      <td>XSHTLQRMYGCDLGPDGRLLRGYNQFAYDGKDYIALNEDLRSWTAA...</td>\n",
       "      <td>87.111111</td>\n",
       "      <td>110.888889</td>\n",
       "      <td>-24.555556</td>\n",
       "    </tr>\n",
       "    <tr>\n",
       "      <th>1389</th>\n",
       "      <td>human</td>\n",
       "      <td>XSHSMRYFYTAVSRPGRGEPRFIAVGYVDDTQFVQFDSDAASPRGE...</td>\n",
       "      <td>XSHTLQRMYGCDLGPDGRLLRGYNQFAYDGKDYIALNEDLRSWTAA...</td>\n",
       "      <td>109.000000</td>\n",
       "      <td>123.888889</td>\n",
       "      <td>-83.888889</td>\n",
       "    </tr>\n",
       "    <tr>\n",
       "      <th>1534</th>\n",
       "      <td>human</td>\n",
       "      <td>XSHSMRYFSTSVSRPGRGEPRFIAVGYVDDTQFVRFDSDAASPRGE...</td>\n",
       "      <td>XSHTLQWMFGCDLGPDGRLLRGYDQSAYDGKDYIALNEDLRSWTAA...</td>\n",
       "      <td>105.222222</td>\n",
       "      <td>127.444444</td>\n",
       "      <td>-11.777778</td>\n",
       "    </tr>\n",
       "  </tbody>\n",
       "</table>\n",
       "<p>1496 rows × 6 columns</p>\n",
       "</div>"
      ],
      "text/plain": [
       "         X1                                                 X2  \\\n",
       "1234  human  XSHSMRYFDTAVSRPGRGEPRFISVGYVDDTQFVRFDSDAASPRGE...   \n",
       "406   human  XSHSMRYFSTSVSWPGRGEPRFIAVGYVDDTQFVRFDSDAASPRGE...   \n",
       "1461  human  XSHSMRYFSTSVSRPGRGEPRFIAVGYVDDTQFVRFDSDAASPRGE...   \n",
       "1039  human  XSHSMRYFDTAVSRPGRGEPRFISVGYVDDTQFVRFDSDAASPRGE...   \n",
       "1940  human  XSHSMRYFYTAVSRPGRGEPRFIAVGYVDDTQFVRFDSDAASPRGE...   \n",
       "...     ...                                                ...   \n",
       "1122  human  XSHSMRYFDTAVSRPGRGEPRFISVGYVDDTQFVRFDSDAASPRGE...   \n",
       "1346  human  XSHSMRYFYTAVSRPGRGEPRFIAVGYVDDTQFVQFDSDAASPRGE...   \n",
       "1406  human  XSHSMRYFYTAVSRPGRGEPRFIAVGYVDDTQFVQFDSDAASPRGE...   \n",
       "1389  human  XSHSMRYFYTAVSRPGRGEPRFIAVGYVDDTQFVQFDSDAASPRGE...   \n",
       "1534  human  XSHSMRYFSTSVSRPGRGEPRFIAVGYVDDTQFVRFDSDAASPRGE...   \n",
       "\n",
       "                                                     X3          X4  \\\n",
       "1234  XSHTLQRMSGCDLGPDGRLLRGYDQSAYDGKDYIALNEDLRSWTAA...   90.000000   \n",
       "406   XSHTLQRMFGCDLGPDGRLLRGYNQFAYDGKDYIALNEDLRSWTAA...   87.055556   \n",
       "1461  XSHTLQWMFGCDLGPDGRLLRGYDQSAYDGKDYIALNEDLRSWTAA...  108.555556   \n",
       "1039  XSHTLQWMYGCDLGPDGRLLRGYDQSAYDGKDYIALNEDLRSWTAA...  126.500000   \n",
       "1940  XSHTLQWMYGCDLGPDGRLLRGYDQSAYDGKDYIALNEDLRSWTAA...   75.000000   \n",
       "...                                                 ...         ...   \n",
       "1122  XSHTLQWMYGCDLGPDGRLLRGYDQSAYDGKDYIALNEDLRSWTAA...   60.222222   \n",
       "1346  XSHTLQRMYGCDLGPDGRLLRGYNQFAYDGKDYIALNEDLRSWTAA...   89.000000   \n",
       "1406  XSHTLQRMYGCDLGPDGRLLRGYNQFAYDGKDYIALNEDLRSWTAA...   87.111111   \n",
       "1389  XSHTLQRMYGCDLGPDGRLLRGYNQFAYDGKDYIALNEDLRSWTAA...  109.000000   \n",
       "1534  XSHTLQWMFGCDLGPDGRLLRGYDQSAYDGKDYIALNEDLRSWTAA...  105.222222   \n",
       "\n",
       "              X5         X6  \n",
       "1234  110.666667 -65.222222  \n",
       "406   113.666667 -28.888889  \n",
       "1461  124.888889 -52.222222  \n",
       "1039  139.000000 -59.333333  \n",
       "1940  103.666667 -38.888889  \n",
       "...          ...        ...  \n",
       "1122   91.111111  12.000000  \n",
       "1346  110.222222 -51.444444  \n",
       "1406  110.888889 -24.555556  \n",
       "1389  123.888889 -83.888889  \n",
       "1534  127.444444 -11.777778  \n",
       "\n",
       "[1496 rows x 6 columns]"
      ]
     },
     "execution_count": 101,
     "metadata": {},
     "output_type": "execute_result"
    }
   ],
   "source": [
    "x_train"
   ]
  },
  {
   "cell_type": "code",
   "execution_count": 102,
   "id": "47da4586",
   "metadata": {},
   "outputs": [
    {
     "data": {
      "text/html": [
       "<style>#sk-container-id-20 {color: black;background-color: white;}#sk-container-id-20 pre{padding: 0;}#sk-container-id-20 div.sk-toggleable {background-color: white;}#sk-container-id-20 label.sk-toggleable__label {cursor: pointer;display: block;width: 100%;margin-bottom: 0;padding: 0.3em;box-sizing: border-box;text-align: center;}#sk-container-id-20 label.sk-toggleable__label-arrow:before {content: \"▸\";float: left;margin-right: 0.25em;color: #696969;}#sk-container-id-20 label.sk-toggleable__label-arrow:hover:before {color: black;}#sk-container-id-20 div.sk-estimator:hover label.sk-toggleable__label-arrow:before {color: black;}#sk-container-id-20 div.sk-toggleable__content {max-height: 0;max-width: 0;overflow: hidden;text-align: left;background-color: #f0f8ff;}#sk-container-id-20 div.sk-toggleable__content pre {margin: 0.2em;color: black;border-radius: 0.25em;background-color: #f0f8ff;}#sk-container-id-20 input.sk-toggleable__control:checked~div.sk-toggleable__content {max-height: 200px;max-width: 100%;overflow: auto;}#sk-container-id-20 input.sk-toggleable__control:checked~label.sk-toggleable__label-arrow:before {content: \"▾\";}#sk-container-id-20 div.sk-estimator input.sk-toggleable__control:checked~label.sk-toggleable__label {background-color: #d4ebff;}#sk-container-id-20 div.sk-label input.sk-toggleable__control:checked~label.sk-toggleable__label {background-color: #d4ebff;}#sk-container-id-20 input.sk-hidden--visually {border: 0;clip: rect(1px 1px 1px 1px);clip: rect(1px, 1px, 1px, 1px);height: 1px;margin: -1px;overflow: hidden;padding: 0;position: absolute;width: 1px;}#sk-container-id-20 div.sk-estimator {font-family: monospace;background-color: #f0f8ff;border: 1px dotted black;border-radius: 0.25em;box-sizing: border-box;margin-bottom: 0.5em;}#sk-container-id-20 div.sk-estimator:hover {background-color: #d4ebff;}#sk-container-id-20 div.sk-parallel-item::after {content: \"\";width: 100%;border-bottom: 1px solid gray;flex-grow: 1;}#sk-container-id-20 div.sk-label:hover label.sk-toggleable__label {background-color: #d4ebff;}#sk-container-id-20 div.sk-serial::before {content: \"\";position: absolute;border-left: 1px solid gray;box-sizing: border-box;top: 0;bottom: 0;left: 50%;z-index: 0;}#sk-container-id-20 div.sk-serial {display: flex;flex-direction: column;align-items: center;background-color: white;padding-right: 0.2em;padding-left: 0.2em;position: relative;}#sk-container-id-20 div.sk-item {position: relative;z-index: 1;}#sk-container-id-20 div.sk-parallel {display: flex;align-items: stretch;justify-content: center;background-color: white;position: relative;}#sk-container-id-20 div.sk-item::before, #sk-container-id-20 div.sk-parallel-item::before {content: \"\";position: absolute;border-left: 1px solid gray;box-sizing: border-box;top: 0;bottom: 0;left: 50%;z-index: -1;}#sk-container-id-20 div.sk-parallel-item {display: flex;flex-direction: column;z-index: 1;position: relative;background-color: white;}#sk-container-id-20 div.sk-parallel-item:first-child::after {align-self: flex-end;width: 50%;}#sk-container-id-20 div.sk-parallel-item:last-child::after {align-self: flex-start;width: 50%;}#sk-container-id-20 div.sk-parallel-item:only-child::after {width: 0;}#sk-container-id-20 div.sk-dashed-wrapped {border: 1px dashed gray;margin: 0 0.4em 0.5em 0.4em;box-sizing: border-box;padding-bottom: 0.4em;background-color: white;}#sk-container-id-20 div.sk-label label {font-family: monospace;font-weight: bold;display: inline-block;line-height: 1.2em;}#sk-container-id-20 div.sk-label-container {text-align: center;}#sk-container-id-20 div.sk-container {/* jupyter's `normalize.less` sets `[hidden] { display: none; }` but bootstrap.min.css set `[hidden] { display: none !important; }` so we also need the `!important` here to be able to override the default hidden behavior on the sphinx rendered scikit-learn.org. See: https://github.com/scikit-learn/scikit-learn/issues/21755 */display: inline-block !important;position: relative;}#sk-container-id-20 div.sk-text-repr-fallback {display: none;}</style><div id=\"sk-container-id-20\" class=\"sk-top-container\"><div class=\"sk-text-repr-fallback\"><pre>Pipeline(steps=[(&#x27;columntransformer&#x27;,\n",
       "                 ColumnTransformer(remainder=&#x27;passthrough&#x27;,\n",
       "                                   transformers=[(&#x27;categorical&#x27;,\n",
       "                                                  OrdinalEncoder(),\n",
       "                                                  [&#x27;X1&#x27;, &#x27;X2&#x27;, &#x27;X3&#x27;])])),\n",
       "                (&#x27;histgradientboostingclassifier&#x27;,\n",
       "                 HistGradientBoostingClassifier())])</pre><b>In a Jupyter environment, please rerun this cell to show the HTML representation or trust the notebook. <br />On GitHub, the HTML representation is unable to render, please try loading this page with nbviewer.org.</b></div><div class=\"sk-container\" hidden><div class=\"sk-item sk-dashed-wrapped\"><div class=\"sk-label-container\"><div class=\"sk-label sk-toggleable\"><input class=\"sk-toggleable__control sk-hidden--visually\" id=\"sk-estimator-id-134\" type=\"checkbox\" ><label for=\"sk-estimator-id-134\" class=\"sk-toggleable__label sk-toggleable__label-arrow\">Pipeline</label><div class=\"sk-toggleable__content\"><pre>Pipeline(steps=[(&#x27;columntransformer&#x27;,\n",
       "                 ColumnTransformer(remainder=&#x27;passthrough&#x27;,\n",
       "                                   transformers=[(&#x27;categorical&#x27;,\n",
       "                                                  OrdinalEncoder(),\n",
       "                                                  [&#x27;X1&#x27;, &#x27;X2&#x27;, &#x27;X3&#x27;])])),\n",
       "                (&#x27;histgradientboostingclassifier&#x27;,\n",
       "                 HistGradientBoostingClassifier())])</pre></div></div></div><div class=\"sk-serial\"><div class=\"sk-item sk-dashed-wrapped\"><div class=\"sk-label-container\"><div class=\"sk-label sk-toggleable\"><input class=\"sk-toggleable__control sk-hidden--visually\" id=\"sk-estimator-id-135\" type=\"checkbox\" ><label for=\"sk-estimator-id-135\" class=\"sk-toggleable__label sk-toggleable__label-arrow\">columntransformer: ColumnTransformer</label><div class=\"sk-toggleable__content\"><pre>ColumnTransformer(remainder=&#x27;passthrough&#x27;,\n",
       "                  transformers=[(&#x27;categorical&#x27;, OrdinalEncoder(),\n",
       "                                 [&#x27;X1&#x27;, &#x27;X2&#x27;, &#x27;X3&#x27;])])</pre></div></div></div><div class=\"sk-parallel\"><div class=\"sk-parallel-item\"><div class=\"sk-item\"><div class=\"sk-label-container\"><div class=\"sk-label sk-toggleable\"><input class=\"sk-toggleable__control sk-hidden--visually\" id=\"sk-estimator-id-136\" type=\"checkbox\" ><label for=\"sk-estimator-id-136\" class=\"sk-toggleable__label sk-toggleable__label-arrow\">categorical</label><div class=\"sk-toggleable__content\"><pre>[&#x27;X1&#x27;, &#x27;X2&#x27;, &#x27;X3&#x27;]</pre></div></div></div><div class=\"sk-serial\"><div class=\"sk-item\"><div class=\"sk-estimator sk-toggleable\"><input class=\"sk-toggleable__control sk-hidden--visually\" id=\"sk-estimator-id-137\" type=\"checkbox\" ><label for=\"sk-estimator-id-137\" class=\"sk-toggleable__label sk-toggleable__label-arrow\">OrdinalEncoder</label><div class=\"sk-toggleable__content\"><pre>OrdinalEncoder()</pre></div></div></div></div></div></div><div class=\"sk-parallel-item\"><div class=\"sk-item\"><div class=\"sk-label-container\"><div class=\"sk-label sk-toggleable\"><input class=\"sk-toggleable__control sk-hidden--visually\" id=\"sk-estimator-id-138\" type=\"checkbox\" ><label for=\"sk-estimator-id-138\" class=\"sk-toggleable__label sk-toggleable__label-arrow\">remainder</label><div class=\"sk-toggleable__content\"><pre>[&#x27;X4&#x27;, &#x27;X5&#x27;, &#x27;X6&#x27;]</pre></div></div></div><div class=\"sk-serial\"><div class=\"sk-item\"><div class=\"sk-estimator sk-toggleable\"><input class=\"sk-toggleable__control sk-hidden--visually\" id=\"sk-estimator-id-139\" type=\"checkbox\" ><label for=\"sk-estimator-id-139\" class=\"sk-toggleable__label sk-toggleable__label-arrow\">passthrough</label><div class=\"sk-toggleable__content\"><pre>passthrough</pre></div></div></div></div></div></div></div></div><div class=\"sk-item\"><div class=\"sk-estimator sk-toggleable\"><input class=\"sk-toggleable__control sk-hidden--visually\" id=\"sk-estimator-id-140\" type=\"checkbox\" ><label for=\"sk-estimator-id-140\" class=\"sk-toggleable__label sk-toggleable__label-arrow\">HistGradientBoostingClassifier</label><div class=\"sk-toggleable__content\"><pre>HistGradientBoostingClassifier()</pre></div></div></div></div></div></div></div>"
      ],
      "text/plain": [
       "Pipeline(steps=[('columntransformer',\n",
       "                 ColumnTransformer(remainder='passthrough',\n",
       "                                   transformers=[('categorical',\n",
       "                                                  OrdinalEncoder(),\n",
       "                                                  ['X1', 'X2', 'X3'])])),\n",
       "                ('histgradientboostingclassifier',\n",
       "                 HistGradientBoostingClassifier())])"
      ]
     },
     "execution_count": 102,
     "metadata": {},
     "output_type": "execute_result"
    }
   ],
   "source": [
    "model = make_pipeline(preprocessor, HistGradientBoostingClassifier())\n",
    "model.fit(x_train, y_train)"
   ]
  },
  {
   "cell_type": "code",
   "execution_count": 103,
   "id": "1a29cc39",
   "metadata": {},
   "outputs": [
    {
     "name": "stdout",
     "output_type": "stream",
     "text": [
      "Confusion Matrix: \r\n",
      " [[ 55  63]\n",
      " [ 43 338]]\n",
      "Accuracy:0.7875751503006012\n",
      "AUC: 0.7878464344499312\n",
      "Overall Precision:0.8428927680798005\n",
      "Overall Recall:0.8871391076115486\n",
      "Classification report\n",
      "              precision    recall  f1-score   support\n",
      "\n",
      "           0       0.56      0.47      0.51       118\n",
      "           1       0.84      0.89      0.86       381\n",
      "\n",
      "    accuracy                           0.79       499\n",
      "   macro avg       0.70      0.68      0.69       499\n",
      "weighted avg       0.78      0.79      0.78       499\n",
      "\n"
     ]
    },
    {
     "data": {
      "image/png": "[encoded data removed]",
      "text/plain": [
       "<Figure size 400x400 with 1 Axes>"
      ]
     },
     "metadata": {},
     "output_type": "display_data"
    }
   ],
   "source": [
    "#Predict on test data\n",
    "y_predict=model.predict(x_test)\n",
    "y_scores = model.predict_proba(x_test)\n",
    "#Evaluate the results\n",
    "fpr_hbg,tpr_hbg=classification_evaluation(y_test,y_predict,y_scores[:,1])"
   ]
  },
  {
   "cell_type": "markdown",
   "id": "3e74c787",
   "metadata": {},
   "source": [
    "## 3. Deep learning model"
   ]
  },
  {
   "cell_type": "code",
   "execution_count": 104,
   "id": "c0a0e3fd",
   "metadata": {},
   "outputs": [],
   "source": [
    "#Define method for feature engineering\n",
    "def process_attributes(df, train, test):\n",
    "    numerical_columns = ['X4', 'X5', 'X6']\n",
    "    #scaler for numerical columns\n",
    "    scaler = StandardScaler() #MinMaxScaler()\n",
    "    train_numericals = scaler.fit_transform(train[numerical_columns])\n",
    "    test_numericals = scaler.transform(test[numerical_columns])\n",
    "    \n",
    "    # one-hot encoding for categorical columns\n",
    "    x1_binarizer = LabelBinarizer().fit(df[\"X1\"])\n",
    "    x1_train_categorical = x1_binarizer.transform(train[\"X1\"])\n",
    "    x1_test_categorical = x1_binarizer.transform(test[\"X1\"])\n",
    "    \n",
    "    x2_binarizer = LabelBinarizer().fit(df[\"X2\"])\n",
    "    x2_train_categorical = x2_binarizer.transform(train[\"X2\"])\n",
    "    x2_test_categorical = x2_binarizer.transform(test[\"X2\"])\n",
    "    \n",
    "    x3_binarizer = LabelBinarizer().fit(df[\"X3\"])\n",
    "    x3_train_categorical = x3_binarizer.transform(train[\"X3\"])\n",
    "    x3_test_categorical = x3_binarizer.transform(test[\"X3\"])\n",
    "    \n",
    "    #Concatenating all the features together\n",
    "    train_x = np.hstack([x1_train_categorical, x2_train_categorical, x3_train_categorical, train_numericals])\n",
    "    test_x = np.hstack([x1_test_categorical, x2_test_categorical, x3_test_categorical, test_numericals])\n",
    "    return train_x, test_x"
   ]
  },
  {
   "cell_type": "code",
   "execution_count": 105,
   "id": "dcedff05",
   "metadata": {},
   "outputs": [],
   "source": [
    "x_train_nor,x_test_nor=process_attributes(df, x_train, x_test)"
   ]
  },
  {
   "cell_type": "code",
   "execution_count": 106,
   "id": "99d5cb2a",
   "metadata": {},
   "outputs": [
    {
     "name": "stdout",
     "output_type": "stream",
     "text": [
      "Epoch 1/100\n",
      "94/94 - 0s - loss: 0.6474 - auc: 0.6087\n",
      "Epoch 2/100\n",
      "94/94 - 0s - loss: 0.5380 - auc: 0.7198\n",
      "Epoch 3/100\n",
      "94/94 - 0s - loss: 0.5002 - auc: 0.7569\n",
      "Epoch 4/100\n",
      "94/94 - 0s - loss: 0.4833 - auc: 0.7702\n",
      "Epoch 5/100\n",
      "94/94 - 0s - loss: 0.4726 - auc: 0.7795\n",
      "Epoch 6/100\n",
      "94/94 - 0s - loss: 0.4667 - auc: 0.7858\n",
      "Epoch 7/100\n",
      "94/94 - 0s - loss: 0.4620 - auc: 0.7919\n",
      "Epoch 8/100\n",
      "94/94 - 0s - loss: 0.4599 - auc: 0.7939\n",
      "Epoch 9/100\n",
      "94/94 - 0s - loss: 0.4579 - auc: 0.7964\n",
      "Epoch 10/100\n",
      "94/94 - 0s - loss: 0.4568 - auc: 0.7977\n",
      "Epoch 11/100\n",
      "94/94 - 0s - loss: 0.4556 - auc: 0.8002\n",
      "Epoch 12/100\n",
      "94/94 - 0s - loss: 0.4540 - auc: 0.8022\n",
      "Epoch 13/100\n",
      "94/94 - 0s - loss: 0.4535 - auc: 0.8017\n",
      "Epoch 14/100\n",
      "94/94 - 0s - loss: 0.4525 - auc: 0.8032\n",
      "Epoch 15/100\n",
      "94/94 - 0s - loss: 0.4513 - auc: 0.8061\n",
      "Epoch 16/100\n",
      "94/94 - 0s - loss: 0.4514 - auc: 0.8044\n",
      "Epoch 17/100\n",
      "94/94 - 0s - loss: 0.4506 - auc: 0.8057\n",
      "Epoch 18/100\n",
      "94/94 - 0s - loss: 0.4491 - auc: 0.8072\n",
      "Epoch 19/100\n",
      "94/94 - 0s - loss: 0.4492 - auc: 0.8075\n",
      "Epoch 20/100\n",
      "94/94 - 0s - loss: 0.4484 - auc: 0.8079\n",
      "Epoch 21/100\n",
      "94/94 - 0s - loss: 0.4479 - auc: 0.8084\n",
      "Epoch 22/100\n",
      "94/94 - 0s - loss: 0.4474 - auc: 0.8094\n",
      "Epoch 23/100\n",
      "94/94 - 0s - loss: 0.4465 - auc: 0.8106\n",
      "Epoch 24/100\n",
      "94/94 - 0s - loss: 0.4455 - auc: 0.8118\n",
      "Epoch 25/100\n",
      "94/94 - 0s - loss: 0.4452 - auc: 0.8113\n",
      "Epoch 26/100\n",
      "94/94 - 0s - loss: 0.4453 - auc: 0.8108\n",
      "Epoch 27/100\n",
      "94/94 - 0s - loss: 0.4438 - auc: 0.8137\n",
      "Epoch 28/100\n",
      "94/94 - 0s - loss: 0.4443 - auc: 0.8125\n",
      "Epoch 29/100\n",
      "94/94 - 0s - loss: 0.4434 - auc: 0.8133\n",
      "Epoch 30/100\n",
      "94/94 - 0s - loss: 0.4433 - auc: 0.8138\n",
      "Epoch 31/100\n",
      "94/94 - 0s - loss: 0.4418 - auc: 0.8152\n",
      "Epoch 32/100\n",
      "94/94 - 0s - loss: 0.4420 - auc: 0.8145\n",
      "Epoch 33/100\n",
      "94/94 - 0s - loss: 0.4423 - auc: 0.8144\n",
      "Epoch 34/100\n",
      "94/94 - 0s - loss: 0.4410 - auc: 0.8160\n",
      "Epoch 35/100\n",
      "94/94 - 0s - loss: 0.4414 - auc: 0.8154\n",
      "Epoch 36/100\n",
      "94/94 - 0s - loss: 0.4402 - auc: 0.8162\n",
      "Epoch 37/100\n",
      "94/94 - 0s - loss: 0.4404 - auc: 0.8162\n",
      "Epoch 38/100\n",
      "94/94 - 0s - loss: 0.4401 - auc: 0.8170\n",
      "Epoch 39/100\n",
      "94/94 - 0s - loss: 0.4397 - auc: 0.8161\n",
      "Epoch 40/100\n",
      "94/94 - 0s - loss: 0.4391 - auc: 0.8174\n",
      "Epoch 41/100\n",
      "94/94 - 0s - loss: 0.4390 - auc: 0.8172\n",
      "Epoch 42/100\n",
      "94/94 - 0s - loss: 0.4388 - auc: 0.8180\n",
      "Epoch 43/100\n",
      "94/94 - 0s - loss: 0.4387 - auc: 0.8178\n",
      "Epoch 44/100\n",
      "94/94 - 0s - loss: 0.4385 - auc: 0.8176\n",
      "Epoch 45/100\n",
      "94/94 - 0s - loss: 0.4375 - auc: 0.8185\n",
      "Epoch 46/100\n",
      "94/94 - 0s - loss: 0.4375 - auc: 0.8188\n",
      "Epoch 47/100\n",
      "94/94 - 0s - loss: 0.4373 - auc: 0.8186\n",
      "Epoch 48/100\n",
      "94/94 - 0s - loss: 0.4367 - auc: 0.8193\n",
      "Epoch 49/100\n",
      "94/94 - 0s - loss: 0.4365 - auc: 0.8202\n",
      "Epoch 50/100\n",
      "94/94 - 0s - loss: 0.4364 - auc: 0.8193\n",
      "Epoch 51/100\n",
      "94/94 - 0s - loss: 0.4370 - auc: 0.8192\n",
      "Epoch 52/100\n",
      "94/94 - 0s - loss: 0.4358 - auc: 0.8203\n",
      "Epoch 53/100\n",
      "94/94 - 0s - loss: 0.4358 - auc: 0.8201\n",
      "Epoch 54/100\n",
      "94/94 - 0s - loss: 0.4363 - auc: 0.8198\n",
      "Epoch 55/100\n",
      "94/94 - 0s - loss: 0.4357 - auc: 0.8202\n",
      "Epoch 56/100\n",
      "94/94 - 0s - loss: 0.4350 - auc: 0.8211\n",
      "Epoch 57/100\n",
      "94/94 - 0s - loss: 0.4350 - auc: 0.8215\n",
      "Epoch 58/100\n",
      "94/94 - 0s - loss: 0.4349 - auc: 0.8215\n",
      "Epoch 59/100\n",
      "94/94 - 0s - loss: 0.4342 - auc: 0.8220\n",
      "Epoch 60/100\n",
      "94/94 - 0s - loss: 0.4350 - auc: 0.8210\n",
      "Epoch 61/100\n",
      "94/94 - 0s - loss: 0.4346 - auc: 0.8215\n",
      "Epoch 62/100\n",
      "94/94 - 0s - loss: 0.4336 - auc: 0.8225\n",
      "Epoch 63/100\n",
      "94/94 - 0s - loss: 0.4342 - auc: 0.8218\n",
      "Epoch 64/100\n",
      "94/94 - 0s - loss: 0.4338 - auc: 0.8222\n",
      "Epoch 65/100\n",
      "94/94 - 0s - loss: 0.4334 - auc: 0.8227\n",
      "Epoch 66/100\n",
      "94/94 - 0s - loss: 0.4332 - auc: 0.8229\n",
      "Epoch 67/100\n",
      "94/94 - 0s - loss: 0.4331 - auc: 0.8227\n",
      "Epoch 68/100\n",
      "94/94 - 0s - loss: 0.4328 - auc: 0.8232\n",
      "Epoch 69/100\n",
      "94/94 - 0s - loss: 0.4322 - auc: 0.8240\n",
      "Epoch 70/100\n",
      "94/94 - 0s - loss: 0.4325 - auc: 0.8231\n",
      "Epoch 71/100\n",
      "94/94 - 0s - loss: 0.4326 - auc: 0.8239\n",
      "Epoch 72/100\n",
      "94/94 - 0s - loss: 0.4314 - auc: 0.8246\n",
      "Epoch 73/100\n",
      "94/94 - 0s - loss: 0.4313 - auc: 0.8250\n",
      "Epoch 74/100\n",
      "94/94 - 0s - loss: 0.4319 - auc: 0.8237\n",
      "Epoch 75/100\n",
      "94/94 - 0s - loss: 0.4308 - auc: 0.8255\n",
      "Epoch 76/100\n",
      "94/94 - 0s - loss: 0.4318 - auc: 0.8242\n",
      "Epoch 77/100\n",
      "94/94 - 0s - loss: 0.4311 - auc: 0.8250\n",
      "Epoch 78/100\n",
      "94/94 - 0s - loss: 0.4308 - auc: 0.8252\n",
      "Epoch 79/100\n",
      "94/94 - 0s - loss: 0.4307 - auc: 0.8257\n",
      "Epoch 80/100\n",
      "94/94 - 0s - loss: 0.4304 - auc: 0.8253\n",
      "Epoch 81/100\n",
      "94/94 - 0s - loss: 0.4313 - auc: 0.8246\n",
      "Epoch 82/100\n",
      "94/94 - 0s - loss: 0.4297 - auc: 0.8266\n",
      "Epoch 83/100\n",
      "94/94 - 0s - loss: 0.4297 - auc: 0.8270\n",
      "Epoch 84/100\n",
      "94/94 - 0s - loss: 0.4306 - auc: 0.8249\n",
      "Epoch 85/100\n",
      "94/94 - 0s - loss: 0.4305 - auc: 0.8254\n",
      "Epoch 86/100\n",
      "94/94 - 0s - loss: 0.4293 - auc: 0.8272\n",
      "Epoch 87/100\n",
      "94/94 - 0s - loss: 0.4296 - auc: 0.8264\n",
      "Epoch 88/100\n",
      "94/94 - 0s - loss: 0.4295 - auc: 0.8268\n",
      "Epoch 89/100\n",
      "94/94 - 0s - loss: 0.4291 - auc: 0.8267\n",
      "Epoch 90/100\n",
      "94/94 - 0s - loss: 0.4287 - auc: 0.8272\n",
      "Epoch 91/100\n",
      "94/94 - 0s - loss: 0.4285 - auc: 0.8279\n",
      "Epoch 92/100\n",
      "94/94 - 0s - loss: 0.4288 - auc: 0.8273\n",
      "Epoch 93/100\n",
      "94/94 - 0s - loss: 0.4285 - auc: 0.8286\n",
      "Epoch 94/100\n",
      "94/94 - 0s - loss: 0.4280 - auc: 0.8281\n",
      "Epoch 95/100\n",
      "94/94 - 0s - loss: 0.4281 - auc: 0.8282\n",
      "Epoch 96/100\n",
      "94/94 - 0s - loss: 0.4284 - auc: 0.8277\n",
      "Epoch 97/100\n",
      "94/94 - 0s - loss: 0.4270 - auc: 0.8292\n",
      "Epoch 98/100\n",
      "94/94 - 0s - loss: 0.4275 - auc: 0.8289\n",
      "Epoch 99/100\n",
      "94/94 - 0s - loss: 0.4266 - auc: 0.8298\n",
      "Epoch 100/100\n",
      "94/94 - 0s - loss: 0.4269 - auc: 0.8297\n"
     ]
    },
    {
     "data": {
      "text/plain": [
       "<tensorflow.python.keras.callbacks.History at 0x7f40383b3520>"
      ]
     },
     "execution_count": 106,
     "metadata": {},
     "output_type": "execute_result"
    }
   ],
   "source": [
    "#Define the deep learning model\n",
    "model = Sequential()\n",
    "#One hidden layer with 20 hidden neurons\n",
    "model.add(Dense(20, input_dim=x_train_nor.shape[1], activation='relu'))\n",
    "model.add(Dense(1, activation='sigmoid'))\n",
    "#Compile the model\n",
    "model.compile(loss='binary_crossentropy', optimizer='adam', metrics=['AUC'])\n",
    "#Train the model on the dataset\n",
    "model.fit(x_train_nor, y_train.values, epochs=100, batch_size=16, verbose=2)"
   ]
  },
  {
   "cell_type": "code",
   "execution_count": 107,
   "id": "ec95cd82",
   "metadata": {},
   "outputs": [
    {
     "name": "stdout",
     "output_type": "stream",
     "text": [
      "Confusion Matrix: \r\n",
      " [[ 52  66]\n",
      " [ 31 350]]\n",
      "Accuracy:0.8056112224448898\n",
      "AUC: 0.8219671693580676\n",
      "Overall Precision:0.8413461538461539\n",
      "Overall Recall:0.9186351706036745\n",
      "Classification report\n",
      "              precision    recall  f1-score   support\n",
      "\n",
      "           0       0.63      0.44      0.52       118\n",
      "           1       0.84      0.92      0.88       381\n",
      "\n",
      "    accuracy                           0.81       499\n",
      "   macro avg       0.73      0.68      0.70       499\n",
      "weighted avg       0.79      0.81      0.79       499\n",
      "\n"
     ]
    },
    {
     "data": {
      "image/png": "[encoded data removed]",
      "text/plain": [
       "<Figure size 400x400 with 1 Axes>"
      ]
     },
     "metadata": {},
     "output_type": "display_data"
    }
   ],
   "source": [
    "#Test the model on test data\n",
    "y_scores=model.predict(x_test_nor)\n",
    "y_predict=[0 if i<0.5 else 1 for i in y_scores]\n",
    "fpr_deep,tpr_deep=classification_evaluation(y_test,y_predict,y_scores)"
   ]
  },
  {
   "cell_type": "code",
   "execution_count": 108,
   "id": "97c894a8",
   "metadata": {},
   "outputs": [
    {
     "data": {
      "image/png": "[encoded data removed]",
      "text/plain": [
       "<Figure size 400x400 with 1 Axes>"
      ]
     },
     "metadata": {},
     "output_type": "display_data"
    }
   ],
   "source": [
    "#Compare all the ROC curves\n",
    "#Plot ROC curve\n",
    "fig = plt.figure(figsize=(4, 4))\n",
    "#Plot the diagonal line\n",
    "plt.plot([0, 1], [0, 1], 'k--')\n",
    "#Plot the false/true positive rate\n",
    "plt.plot(fpr_linear, tpr_linear, label='LogisticRegression')\n",
    "plt.plot(fpr_hbg, tpr_hbg, label='HistGradientBoosting')\n",
    "plt.plot(fpr_deep, tpr_deep, label='Deep learning')\n",
    "plt.xlabel(\"False Positive Rate\")\n",
    "plt.ylabel(\"True Positive Rate\")\n",
    "plt.title(\"ROC Curve\")\n",
    "plt.legend(loc=\"best\")\n",
    "plt.show()"
   ]
  },
  {
   "cell_type": "markdown",
   "id": "dc26c1ad",
   "metadata": {},
   "source": [
    "# Regression models\n",
    "\n",
    "Three models has been applied:\n",
    "1. Linear regression\n",
    "2. Gradient Boosting\n",
    "3. Deep learning"
   ]
  },
  {
   "cell_type": "markdown",
   "id": "ae1cc14d",
   "metadata": {},
   "source": [
    "## 1. Linear regression"
   ]
  },
  {
   "cell_type": "markdown",
   "id": "644baea5",
   "metadata": {},
   "source": [
    "### Featuer engineering"
   ]
  },
  {
   "cell_type": "code",
   "execution_count": 121,
   "id": "c283f0da",
   "metadata": {},
   "outputs": [],
   "source": [
    "#Define encoding methods\n",
    "categorical_preprocessor = OrdinalEncoder()\n",
    "\n",
    "#Ordinal code on categorical columns and no encoding for the rest columns\n",
    "preprocessor = ColumnTransformer([\n",
    "    ('categorical', categorical_preprocessor, categorical_columns)],\n",
    "    remainder=\"passthrough\")"
   ]
  },
  {
   "cell_type": "markdown",
   "id": "b84be16d",
   "metadata": {},
   "source": [
    "### Build model"
   ]
  },
  {
   "cell_type": "code",
   "execution_count": 122,
   "id": "657652a7",
   "metadata": {},
   "outputs": [
    {
     "data": {
      "text/html": [
       "<style>#sk-container-id-25 {color: black;background-color: white;}#sk-container-id-25 pre{padding: 0;}#sk-container-id-25 div.sk-toggleable {background-color: white;}#sk-container-id-25 label.sk-toggleable__label {cursor: pointer;display: block;width: 100%;margin-bottom: 0;padding: 0.3em;box-sizing: border-box;text-align: center;}#sk-container-id-25 label.sk-toggleable__label-arrow:before {content: \"▸\";float: left;margin-right: 0.25em;color: #696969;}#sk-container-id-25 label.sk-toggleable__label-arrow:hover:before {color: black;}#sk-container-id-25 div.sk-estimator:hover label.sk-toggleable__label-arrow:before {color: black;}#sk-container-id-25 div.sk-toggleable__content {max-height: 0;max-width: 0;overflow: hidden;text-align: left;background-color: #f0f8ff;}#sk-container-id-25 div.sk-toggleable__content pre {margin: 0.2em;color: black;border-radius: 0.25em;background-color: #f0f8ff;}#sk-container-id-25 input.sk-toggleable__control:checked~div.sk-toggleable__content {max-height: 200px;max-width: 100%;overflow: auto;}#sk-container-id-25 input.sk-toggleable__control:checked~label.sk-toggleable__label-arrow:before {content: \"▾\";}#sk-container-id-25 div.sk-estimator input.sk-toggleable__control:checked~label.sk-toggleable__label {background-color: #d4ebff;}#sk-container-id-25 div.sk-label input.sk-toggleable__control:checked~label.sk-toggleable__label {background-color: #d4ebff;}#sk-container-id-25 input.sk-hidden--visually {border: 0;clip: rect(1px 1px 1px 1px);clip: rect(1px, 1px, 1px, 1px);height: 1px;margin: -1px;overflow: hidden;padding: 0;position: absolute;width: 1px;}#sk-container-id-25 div.sk-estimator {font-family: monospace;background-color: #f0f8ff;border: 1px dotted black;border-radius: 0.25em;box-sizing: border-box;margin-bottom: 0.5em;}#sk-container-id-25 div.sk-estimator:hover {background-color: #d4ebff;}#sk-container-id-25 div.sk-parallel-item::after {content: \"\";width: 100%;border-bottom: 1px solid gray;flex-grow: 1;}#sk-container-id-25 div.sk-label:hover label.sk-toggleable__label {background-color: #d4ebff;}#sk-container-id-25 div.sk-serial::before {content: \"\";position: absolute;border-left: 1px solid gray;box-sizing: border-box;top: 0;bottom: 0;left: 50%;z-index: 0;}#sk-container-id-25 div.sk-serial {display: flex;flex-direction: column;align-items: center;background-color: white;padding-right: 0.2em;padding-left: 0.2em;position: relative;}#sk-container-id-25 div.sk-item {position: relative;z-index: 1;}#sk-container-id-25 div.sk-parallel {display: flex;align-items: stretch;justify-content: center;background-color: white;position: relative;}#sk-container-id-25 div.sk-item::before, #sk-container-id-25 div.sk-parallel-item::before {content: \"\";position: absolute;border-left: 1px solid gray;box-sizing: border-box;top: 0;bottom: 0;left: 50%;z-index: -1;}#sk-container-id-25 div.sk-parallel-item {display: flex;flex-direction: column;z-index: 1;position: relative;background-color: white;}#sk-container-id-25 div.sk-parallel-item:first-child::after {align-self: flex-end;width: 50%;}#sk-container-id-25 div.sk-parallel-item:last-child::after {align-self: flex-start;width: 50%;}#sk-container-id-25 div.sk-parallel-item:only-child::after {width: 0;}#sk-container-id-25 div.sk-dashed-wrapped {border: 1px dashed gray;margin: 0 0.4em 0.5em 0.4em;box-sizing: border-box;padding-bottom: 0.4em;background-color: white;}#sk-container-id-25 div.sk-label label {font-family: monospace;font-weight: bold;display: inline-block;line-height: 1.2em;}#sk-container-id-25 div.sk-label-container {text-align: center;}#sk-container-id-25 div.sk-container {/* jupyter's `normalize.less` sets `[hidden] { display: none; }` but bootstrap.min.css set `[hidden] { display: none !important; }` so we also need the `!important` here to be able to override the default hidden behavior on the sphinx rendered scikit-learn.org. See: https://github.com/scikit-learn/scikit-learn/issues/21755 */display: inline-block !important;position: relative;}#sk-container-id-25 div.sk-text-repr-fallback {display: none;}</style><div id=\"sk-container-id-25\" class=\"sk-top-container\"><div class=\"sk-text-repr-fallback\"><pre>Pipeline(steps=[(&#x27;columntransformer&#x27;,\n",
       "                 ColumnTransformer(remainder=&#x27;passthrough&#x27;,\n",
       "                                   transformers=[(&#x27;categorical&#x27;,\n",
       "                                                  OrdinalEncoder(),\n",
       "                                                  [&#x27;X1&#x27;, &#x27;X2&#x27;, &#x27;X3&#x27;])])),\n",
       "                (&#x27;linearregression&#x27;, LinearRegression())])</pre><b>In a Jupyter environment, please rerun this cell to show the HTML representation or trust the notebook. <br />On GitHub, the HTML representation is unable to render, please try loading this page with nbviewer.org.</b></div><div class=\"sk-container\" hidden><div class=\"sk-item sk-dashed-wrapped\"><div class=\"sk-label-container\"><div class=\"sk-label sk-toggleable\"><input class=\"sk-toggleable__control sk-hidden--visually\" id=\"sk-estimator-id-169\" type=\"checkbox\" ><label for=\"sk-estimator-id-169\" class=\"sk-toggleable__label sk-toggleable__label-arrow\">Pipeline</label><div class=\"sk-toggleable__content\"><pre>Pipeline(steps=[(&#x27;columntransformer&#x27;,\n",
       "                 ColumnTransformer(remainder=&#x27;passthrough&#x27;,\n",
       "                                   transformers=[(&#x27;categorical&#x27;,\n",
       "                                                  OrdinalEncoder(),\n",
       "                                                  [&#x27;X1&#x27;, &#x27;X2&#x27;, &#x27;X3&#x27;])])),\n",
       "                (&#x27;linearregression&#x27;, LinearRegression())])</pre></div></div></div><div class=\"sk-serial\"><div class=\"sk-item sk-dashed-wrapped\"><div class=\"sk-label-container\"><div class=\"sk-label sk-toggleable\"><input class=\"sk-toggleable__control sk-hidden--visually\" id=\"sk-estimator-id-170\" type=\"checkbox\" ><label for=\"sk-estimator-id-170\" class=\"sk-toggleable__label sk-toggleable__label-arrow\">columntransformer: ColumnTransformer</label><div class=\"sk-toggleable__content\"><pre>ColumnTransformer(remainder=&#x27;passthrough&#x27;,\n",
       "                  transformers=[(&#x27;categorical&#x27;, OrdinalEncoder(),\n",
       "                                 [&#x27;X1&#x27;, &#x27;X2&#x27;, &#x27;X3&#x27;])])</pre></div></div></div><div class=\"sk-parallel\"><div class=\"sk-parallel-item\"><div class=\"sk-item\"><div class=\"sk-label-container\"><div class=\"sk-label sk-toggleable\"><input class=\"sk-toggleable__control sk-hidden--visually\" id=\"sk-estimator-id-171\" type=\"checkbox\" ><label for=\"sk-estimator-id-171\" class=\"sk-toggleable__label sk-toggleable__label-arrow\">categorical</label><div class=\"sk-toggleable__content\"><pre>[&#x27;X1&#x27;, &#x27;X2&#x27;, &#x27;X3&#x27;]</pre></div></div></div><div class=\"sk-serial\"><div class=\"sk-item\"><div class=\"sk-estimator sk-toggleable\"><input class=\"sk-toggleable__control sk-hidden--visually\" id=\"sk-estimator-id-172\" type=\"checkbox\" ><label for=\"sk-estimator-id-172\" class=\"sk-toggleable__label sk-toggleable__label-arrow\">OrdinalEncoder</label><div class=\"sk-toggleable__content\"><pre>OrdinalEncoder()</pre></div></div></div></div></div></div><div class=\"sk-parallel-item\"><div class=\"sk-item\"><div class=\"sk-label-container\"><div class=\"sk-label sk-toggleable\"><input class=\"sk-toggleable__control sk-hidden--visually\" id=\"sk-estimator-id-173\" type=\"checkbox\" ><label for=\"sk-estimator-id-173\" class=\"sk-toggleable__label sk-toggleable__label-arrow\">remainder</label><div class=\"sk-toggleable__content\"><pre></pre></div></div></div><div class=\"sk-serial\"><div class=\"sk-item\"><div class=\"sk-estimator sk-toggleable\"><input class=\"sk-toggleable__control sk-hidden--visually\" id=\"sk-estimator-id-174\" type=\"checkbox\" ><label for=\"sk-estimator-id-174\" class=\"sk-toggleable__label sk-toggleable__label-arrow\">passthrough</label><div class=\"sk-toggleable__content\"><pre>passthrough</pre></div></div></div></div></div></div></div></div><div class=\"sk-item\"><div class=\"sk-estimator sk-toggleable\"><input class=\"sk-toggleable__control sk-hidden--visually\" id=\"sk-estimator-id-175\" type=\"checkbox\" ><label for=\"sk-estimator-id-175\" class=\"sk-toggleable__label sk-toggleable__label-arrow\">LinearRegression</label><div class=\"sk-toggleable__content\"><pre>LinearRegression()</pre></div></div></div></div></div></div></div>"
      ],
      "text/plain": [
       "Pipeline(steps=[('columntransformer',\n",
       "                 ColumnTransformer(remainder='passthrough',\n",
       "                                   transformers=[('categorical',\n",
       "                                                  OrdinalEncoder(),\n",
       "                                                  ['X1', 'X2', 'X3'])])),\n",
       "                ('linearregression', LinearRegression())])"
      ]
     },
     "execution_count": 122,
     "metadata": {},
     "output_type": "execute_result"
    }
   ],
   "source": [
    "model = make_pipeline(preprocessor, LinearRegression())\n",
    "model"
   ]
  },
  {
   "cell_type": "code",
   "execution_count": 123,
   "id": "45b91225",
   "metadata": {},
   "outputs": [],
   "source": [
    "#Define model input features and output lable for training data\n",
    "data_y = df[\"Y\"]\n",
    "data_x = df.drop(columns=[\"Y-class\",\"Y\",\"X1_code\",\"X2_code\",\"X3_code\"])"
   ]
  },
  {
   "cell_type": "code",
   "execution_count": 124,
   "id": "4bcb5065",
   "metadata": {},
   "outputs": [],
   "source": [
    "#Split the dataset into two subset, train subset and test subtset\n",
    "#The same train and test data will be used for all the regression models\n",
    "x_train, x_test, y_train, y_test = train_test_split(\n",
    "    data_x, data_y, random_state=123)"
   ]
  },
  {
   "cell_type": "code",
   "execution_count": 125,
   "id": "f363d162",
   "metadata": {},
   "outputs": [
    {
     "data": {
      "text/html": [
       "<style>#sk-container-id-26 {color: black;background-color: white;}#sk-container-id-26 pre{padding: 0;}#sk-container-id-26 div.sk-toggleable {background-color: white;}#sk-container-id-26 label.sk-toggleable__label {cursor: pointer;display: block;width: 100%;margin-bottom: 0;padding: 0.3em;box-sizing: border-box;text-align: center;}#sk-container-id-26 label.sk-toggleable__label-arrow:before {content: \"▸\";float: left;margin-right: 0.25em;color: #696969;}#sk-container-id-26 label.sk-toggleable__label-arrow:hover:before {color: black;}#sk-container-id-26 div.sk-estimator:hover label.sk-toggleable__label-arrow:before {color: black;}#sk-container-id-26 div.sk-toggleable__content {max-height: 0;max-width: 0;overflow: hidden;text-align: left;background-color: #f0f8ff;}#sk-container-id-26 div.sk-toggleable__content pre {margin: 0.2em;color: black;border-radius: 0.25em;background-color: #f0f8ff;}#sk-container-id-26 input.sk-toggleable__control:checked~div.sk-toggleable__content {max-height: 200px;max-width: 100%;overflow: auto;}#sk-container-id-26 input.sk-toggleable__control:checked~label.sk-toggleable__label-arrow:before {content: \"▾\";}#sk-container-id-26 div.sk-estimator input.sk-toggleable__control:checked~label.sk-toggleable__label {background-color: #d4ebff;}#sk-container-id-26 div.sk-label input.sk-toggleable__control:checked~label.sk-toggleable__label {background-color: #d4ebff;}#sk-container-id-26 input.sk-hidden--visually {border: 0;clip: rect(1px 1px 1px 1px);clip: rect(1px, 1px, 1px, 1px);height: 1px;margin: -1px;overflow: hidden;padding: 0;position: absolute;width: 1px;}#sk-container-id-26 div.sk-estimator {font-family: monospace;background-color: #f0f8ff;border: 1px dotted black;border-radius: 0.25em;box-sizing: border-box;margin-bottom: 0.5em;}#sk-container-id-26 div.sk-estimator:hover {background-color: #d4ebff;}#sk-container-id-26 div.sk-parallel-item::after {content: \"\";width: 100%;border-bottom: 1px solid gray;flex-grow: 1;}#sk-container-id-26 div.sk-label:hover label.sk-toggleable__label {background-color: #d4ebff;}#sk-container-id-26 div.sk-serial::before {content: \"\";position: absolute;border-left: 1px solid gray;box-sizing: border-box;top: 0;bottom: 0;left: 50%;z-index: 0;}#sk-container-id-26 div.sk-serial {display: flex;flex-direction: column;align-items: center;background-color: white;padding-right: 0.2em;padding-left: 0.2em;position: relative;}#sk-container-id-26 div.sk-item {position: relative;z-index: 1;}#sk-container-id-26 div.sk-parallel {display: flex;align-items: stretch;justify-content: center;background-color: white;position: relative;}#sk-container-id-26 div.sk-item::before, #sk-container-id-26 div.sk-parallel-item::before {content: \"\";position: absolute;border-left: 1px solid gray;box-sizing: border-box;top: 0;bottom: 0;left: 50%;z-index: -1;}#sk-container-id-26 div.sk-parallel-item {display: flex;flex-direction: column;z-index: 1;position: relative;background-color: white;}#sk-container-id-26 div.sk-parallel-item:first-child::after {align-self: flex-end;width: 50%;}#sk-container-id-26 div.sk-parallel-item:last-child::after {align-self: flex-start;width: 50%;}#sk-container-id-26 div.sk-parallel-item:only-child::after {width: 0;}#sk-container-id-26 div.sk-dashed-wrapped {border: 1px dashed gray;margin: 0 0.4em 0.5em 0.4em;box-sizing: border-box;padding-bottom: 0.4em;background-color: white;}#sk-container-id-26 div.sk-label label {font-family: monospace;font-weight: bold;display: inline-block;line-height: 1.2em;}#sk-container-id-26 div.sk-label-container {text-align: center;}#sk-container-id-26 div.sk-container {/* jupyter's `normalize.less` sets `[hidden] { display: none; }` but bootstrap.min.css set `[hidden] { display: none !important; }` so we also need the `!important` here to be able to override the default hidden behavior on the sphinx rendered scikit-learn.org. See: https://github.com/scikit-learn/scikit-learn/issues/21755 */display: inline-block !important;position: relative;}#sk-container-id-26 div.sk-text-repr-fallback {display: none;}</style><div id=\"sk-container-id-26\" class=\"sk-top-container\"><div class=\"sk-text-repr-fallback\"><pre>Pipeline(steps=[(&#x27;columntransformer&#x27;,\n",
       "                 ColumnTransformer(remainder=&#x27;passthrough&#x27;,\n",
       "                                   transformers=[(&#x27;categorical&#x27;,\n",
       "                                                  OrdinalEncoder(),\n",
       "                                                  [&#x27;X1&#x27;, &#x27;X2&#x27;, &#x27;X3&#x27;])])),\n",
       "                (&#x27;linearregression&#x27;, LinearRegression())])</pre><b>In a Jupyter environment, please rerun this cell to show the HTML representation or trust the notebook. <br />On GitHub, the HTML representation is unable to render, please try loading this page with nbviewer.org.</b></div><div class=\"sk-container\" hidden><div class=\"sk-item sk-dashed-wrapped\"><div class=\"sk-label-container\"><div class=\"sk-label sk-toggleable\"><input class=\"sk-toggleable__control sk-hidden--visually\" id=\"sk-estimator-id-176\" type=\"checkbox\" ><label for=\"sk-estimator-id-176\" class=\"sk-toggleable__label sk-toggleable__label-arrow\">Pipeline</label><div class=\"sk-toggleable__content\"><pre>Pipeline(steps=[(&#x27;columntransformer&#x27;,\n",
       "                 ColumnTransformer(remainder=&#x27;passthrough&#x27;,\n",
       "                                   transformers=[(&#x27;categorical&#x27;,\n",
       "                                                  OrdinalEncoder(),\n",
       "                                                  [&#x27;X1&#x27;, &#x27;X2&#x27;, &#x27;X3&#x27;])])),\n",
       "                (&#x27;linearregression&#x27;, LinearRegression())])</pre></div></div></div><div class=\"sk-serial\"><div class=\"sk-item sk-dashed-wrapped\"><div class=\"sk-label-container\"><div class=\"sk-label sk-toggleable\"><input class=\"sk-toggleable__control sk-hidden--visually\" id=\"sk-estimator-id-177\" type=\"checkbox\" ><label for=\"sk-estimator-id-177\" class=\"sk-toggleable__label sk-toggleable__label-arrow\">columntransformer: ColumnTransformer</label><div class=\"sk-toggleable__content\"><pre>ColumnTransformer(remainder=&#x27;passthrough&#x27;,\n",
       "                  transformers=[(&#x27;categorical&#x27;, OrdinalEncoder(),\n",
       "                                 [&#x27;X1&#x27;, &#x27;X2&#x27;, &#x27;X3&#x27;])])</pre></div></div></div><div class=\"sk-parallel\"><div class=\"sk-parallel-item\"><div class=\"sk-item\"><div class=\"sk-label-container\"><div class=\"sk-label sk-toggleable\"><input class=\"sk-toggleable__control sk-hidden--visually\" id=\"sk-estimator-id-178\" type=\"checkbox\" ><label for=\"sk-estimator-id-178\" class=\"sk-toggleable__label sk-toggleable__label-arrow\">categorical</label><div class=\"sk-toggleable__content\"><pre>[&#x27;X1&#x27;, &#x27;X2&#x27;, &#x27;X3&#x27;]</pre></div></div></div><div class=\"sk-serial\"><div class=\"sk-item\"><div class=\"sk-estimator sk-toggleable\"><input class=\"sk-toggleable__control sk-hidden--visually\" id=\"sk-estimator-id-179\" type=\"checkbox\" ><label for=\"sk-estimator-id-179\" class=\"sk-toggleable__label sk-toggleable__label-arrow\">OrdinalEncoder</label><div class=\"sk-toggleable__content\"><pre>OrdinalEncoder()</pre></div></div></div></div></div></div><div class=\"sk-parallel-item\"><div class=\"sk-item\"><div class=\"sk-label-container\"><div class=\"sk-label sk-toggleable\"><input class=\"sk-toggleable__control sk-hidden--visually\" id=\"sk-estimator-id-180\" type=\"checkbox\" ><label for=\"sk-estimator-id-180\" class=\"sk-toggleable__label sk-toggleable__label-arrow\">remainder</label><div class=\"sk-toggleable__content\"><pre>[&#x27;X4&#x27;, &#x27;X5&#x27;, &#x27;X6&#x27;]</pre></div></div></div><div class=\"sk-serial\"><div class=\"sk-item\"><div class=\"sk-estimator sk-toggleable\"><input class=\"sk-toggleable__control sk-hidden--visually\" id=\"sk-estimator-id-181\" type=\"checkbox\" ><label for=\"sk-estimator-id-181\" class=\"sk-toggleable__label sk-toggleable__label-arrow\">passthrough</label><div class=\"sk-toggleable__content\"><pre>passthrough</pre></div></div></div></div></div></div></div></div><div class=\"sk-item\"><div class=\"sk-estimator sk-toggleable\"><input class=\"sk-toggleable__control sk-hidden--visually\" id=\"sk-estimator-id-182\" type=\"checkbox\" ><label for=\"sk-estimator-id-182\" class=\"sk-toggleable__label sk-toggleable__label-arrow\">LinearRegression</label><div class=\"sk-toggleable__content\"><pre>LinearRegression()</pre></div></div></div></div></div></div></div>"
      ],
      "text/plain": [
       "Pipeline(steps=[('columntransformer',\n",
       "                 ColumnTransformer(remainder='passthrough',\n",
       "                                   transformers=[('categorical',\n",
       "                                                  OrdinalEncoder(),\n",
       "                                                  ['X1', 'X2', 'X3'])])),\n",
       "                ('linearregression', LinearRegression())])"
      ]
     },
     "execution_count": 125,
     "metadata": {},
     "output_type": "execute_result"
    }
   ],
   "source": [
    "model.fit(x_train, y_train)"
   ]
  },
  {
   "cell_type": "markdown",
   "id": "08c9d7bf",
   "metadata": {},
   "source": [
    "### Test and evaluate model"
   ]
  },
  {
   "cell_type": "code",
   "execution_count": 126,
   "id": "e12f8e41",
   "metadata": {},
   "outputs": [],
   "source": [
    "def regression_evaluation(y_test, y_predict):\n",
    "    mse = mean_squared_error(y_test, y_predict)\n",
    "    print(\"MSE:\", mse)\n",
    "    rmse = np.sqrt(mse)\n",
    "    print(\"RMSE:\", rmse)\n",
    "    r2 = r2_score(y_test, y_predict)\n",
    "    print(\"R2:\", r2)\n",
    "    plt.scatter(y_test, y_predict)\n",
    "    plt.show()"
   ]
  },
  {
   "cell_type": "code",
   "execution_count": 127,
   "id": "f3fc1bd5",
   "metadata": {},
   "outputs": [],
   "source": [
    "y_predict = model.predict(x_test)"
   ]
  },
  {
   "cell_type": "code",
   "execution_count": 128,
   "id": "1498f8c5",
   "metadata": {},
   "outputs": [
    {
     "name": "stdout",
     "output_type": "stream",
     "text": [
      "MSE: 62237684.19143894\n",
      "RMSE: 7889.086397767421\n",
      "R2: 0.014653891988159584\n"
     ]
    },
    {
     "data": {
      "image/png": "[encoded data removed]",
      "text/plain": [
       "<Figure size 640x480 with 1 Axes>"
      ]
     },
     "metadata": {},
     "output_type": "display_data"
    }
   ],
   "source": [
    "regression_evaluation(y_test, y_predict)"
   ]
  },
  {
   "cell_type": "markdown",
   "id": "ff33c0c1",
   "metadata": {},
   "source": [
    "## 2. GradientBoostingRegressor"
   ]
  },
  {
   "cell_type": "markdown",
   "id": "792b7b3e",
   "metadata": {},
   "source": [
    "### Featuer engineering"
   ]
  },
  {
   "cell_type": "code",
   "execution_count": 129,
   "id": "3dde93ea",
   "metadata": {},
   "outputs": [],
   "source": [
    "categorical_preprocessor = OrdinalEncoder()\n",
    "\n",
    "preprocessor = ColumnTransformer([\n",
    "    ('categorical', categorical_preprocessor, categorical_columns)],\n",
    "    remainder=\"passthrough\")"
   ]
  },
  {
   "cell_type": "markdown",
   "id": "6fed8b73",
   "metadata": {},
   "source": [
    "### Build model"
   ]
  },
  {
   "cell_type": "code",
   "execution_count": 130,
   "id": "764f7708",
   "metadata": {},
   "outputs": [
    {
     "data": {
      "text/html": [
       "<style>#sk-container-id-27 {color: black;background-color: white;}#sk-container-id-27 pre{padding: 0;}#sk-container-id-27 div.sk-toggleable {background-color: white;}#sk-container-id-27 label.sk-toggleable__label {cursor: pointer;display: block;width: 100%;margin-bottom: 0;padding: 0.3em;box-sizing: border-box;text-align: center;}#sk-container-id-27 label.sk-toggleable__label-arrow:before {content: \"▸\";float: left;margin-right: 0.25em;color: #696969;}#sk-container-id-27 label.sk-toggleable__label-arrow:hover:before {color: black;}#sk-container-id-27 div.sk-estimator:hover label.sk-toggleable__label-arrow:before {color: black;}#sk-container-id-27 div.sk-toggleable__content {max-height: 0;max-width: 0;overflow: hidden;text-align: left;background-color: #f0f8ff;}#sk-container-id-27 div.sk-toggleable__content pre {margin: 0.2em;color: black;border-radius: 0.25em;background-color: #f0f8ff;}#sk-container-id-27 input.sk-toggleable__control:checked~div.sk-toggleable__content {max-height: 200px;max-width: 100%;overflow: auto;}#sk-container-id-27 input.sk-toggleable__control:checked~label.sk-toggleable__label-arrow:before {content: \"▾\";}#sk-container-id-27 div.sk-estimator input.sk-toggleable__control:checked~label.sk-toggleable__label {background-color: #d4ebff;}#sk-container-id-27 div.sk-label input.sk-toggleable__control:checked~label.sk-toggleable__label {background-color: #d4ebff;}#sk-container-id-27 input.sk-hidden--visually {border: 0;clip: rect(1px 1px 1px 1px);clip: rect(1px, 1px, 1px, 1px);height: 1px;margin: -1px;overflow: hidden;padding: 0;position: absolute;width: 1px;}#sk-container-id-27 div.sk-estimator {font-family: monospace;background-color: #f0f8ff;border: 1px dotted black;border-radius: 0.25em;box-sizing: border-box;margin-bottom: 0.5em;}#sk-container-id-27 div.sk-estimator:hover {background-color: #d4ebff;}#sk-container-id-27 div.sk-parallel-item::after {content: \"\";width: 100%;border-bottom: 1px solid gray;flex-grow: 1;}#sk-container-id-27 div.sk-label:hover label.sk-toggleable__label {background-color: #d4ebff;}#sk-container-id-27 div.sk-serial::before {content: \"\";position: absolute;border-left: 1px solid gray;box-sizing: border-box;top: 0;bottom: 0;left: 50%;z-index: 0;}#sk-container-id-27 div.sk-serial {display: flex;flex-direction: column;align-items: center;background-color: white;padding-right: 0.2em;padding-left: 0.2em;position: relative;}#sk-container-id-27 div.sk-item {position: relative;z-index: 1;}#sk-container-id-27 div.sk-parallel {display: flex;align-items: stretch;justify-content: center;background-color: white;position: relative;}#sk-container-id-27 div.sk-item::before, #sk-container-id-27 div.sk-parallel-item::before {content: \"\";position: absolute;border-left: 1px solid gray;box-sizing: border-box;top: 0;bottom: 0;left: 50%;z-index: -1;}#sk-container-id-27 div.sk-parallel-item {display: flex;flex-direction: column;z-index: 1;position: relative;background-color: white;}#sk-container-id-27 div.sk-parallel-item:first-child::after {align-self: flex-end;width: 50%;}#sk-container-id-27 div.sk-parallel-item:last-child::after {align-self: flex-start;width: 50%;}#sk-container-id-27 div.sk-parallel-item:only-child::after {width: 0;}#sk-container-id-27 div.sk-dashed-wrapped {border: 1px dashed gray;margin: 0 0.4em 0.5em 0.4em;box-sizing: border-box;padding-bottom: 0.4em;background-color: white;}#sk-container-id-27 div.sk-label label {font-family: monospace;font-weight: bold;display: inline-block;line-height: 1.2em;}#sk-container-id-27 div.sk-label-container {text-align: center;}#sk-container-id-27 div.sk-container {/* jupyter's `normalize.less` sets `[hidden] { display: none; }` but bootstrap.min.css set `[hidden] { display: none !important; }` so we also need the `!important` here to be able to override the default hidden behavior on the sphinx rendered scikit-learn.org. See: https://github.com/scikit-learn/scikit-learn/issues/21755 */display: inline-block !important;position: relative;}#sk-container-id-27 div.sk-text-repr-fallback {display: none;}</style><div id=\"sk-container-id-27\" class=\"sk-top-container\"><div class=\"sk-text-repr-fallback\"><pre>Pipeline(steps=[(&#x27;columntransformer&#x27;,\n",
       "                 ColumnTransformer(remainder=&#x27;passthrough&#x27;,\n",
       "                                   transformers=[(&#x27;categorical&#x27;,\n",
       "                                                  OrdinalEncoder(),\n",
       "                                                  [&#x27;X1&#x27;, &#x27;X2&#x27;, &#x27;X3&#x27;])])),\n",
       "                (&#x27;gradientboostingregressor&#x27;, GradientBoostingRegressor())])</pre><b>In a Jupyter environment, please rerun this cell to show the HTML representation or trust the notebook. <br />On GitHub, the HTML representation is unable to render, please try loading this page with nbviewer.org.</b></div><div class=\"sk-container\" hidden><div class=\"sk-item sk-dashed-wrapped\"><div class=\"sk-label-container\"><div class=\"sk-label sk-toggleable\"><input class=\"sk-toggleable__control sk-hidden--visually\" id=\"sk-estimator-id-183\" type=\"checkbox\" ><label for=\"sk-estimator-id-183\" class=\"sk-toggleable__label sk-toggleable__label-arrow\">Pipeline</label><div class=\"sk-toggleable__content\"><pre>Pipeline(steps=[(&#x27;columntransformer&#x27;,\n",
       "                 ColumnTransformer(remainder=&#x27;passthrough&#x27;,\n",
       "                                   transformers=[(&#x27;categorical&#x27;,\n",
       "                                                  OrdinalEncoder(),\n",
       "                                                  [&#x27;X1&#x27;, &#x27;X2&#x27;, &#x27;X3&#x27;])])),\n",
       "                (&#x27;gradientboostingregressor&#x27;, GradientBoostingRegressor())])</pre></div></div></div><div class=\"sk-serial\"><div class=\"sk-item sk-dashed-wrapped\"><div class=\"sk-label-container\"><div class=\"sk-label sk-toggleable\"><input class=\"sk-toggleable__control sk-hidden--visually\" id=\"sk-estimator-id-184\" type=\"checkbox\" ><label for=\"sk-estimator-id-184\" class=\"sk-toggleable__label sk-toggleable__label-arrow\">columntransformer: ColumnTransformer</label><div class=\"sk-toggleable__content\"><pre>ColumnTransformer(remainder=&#x27;passthrough&#x27;,\n",
       "                  transformers=[(&#x27;categorical&#x27;, OrdinalEncoder(),\n",
       "                                 [&#x27;X1&#x27;, &#x27;X2&#x27;, &#x27;X3&#x27;])])</pre></div></div></div><div class=\"sk-parallel\"><div class=\"sk-parallel-item\"><div class=\"sk-item\"><div class=\"sk-label-container\"><div class=\"sk-label sk-toggleable\"><input class=\"sk-toggleable__control sk-hidden--visually\" id=\"sk-estimator-id-185\" type=\"checkbox\" ><label for=\"sk-estimator-id-185\" class=\"sk-toggleable__label sk-toggleable__label-arrow\">categorical</label><div class=\"sk-toggleable__content\"><pre>[&#x27;X1&#x27;, &#x27;X2&#x27;, &#x27;X3&#x27;]</pre></div></div></div><div class=\"sk-serial\"><div class=\"sk-item\"><div class=\"sk-estimator sk-toggleable\"><input class=\"sk-toggleable__control sk-hidden--visually\" id=\"sk-estimator-id-186\" type=\"checkbox\" ><label for=\"sk-estimator-id-186\" class=\"sk-toggleable__label sk-toggleable__label-arrow\">OrdinalEncoder</label><div class=\"sk-toggleable__content\"><pre>OrdinalEncoder()</pre></div></div></div></div></div></div><div class=\"sk-parallel-item\"><div class=\"sk-item\"><div class=\"sk-label-container\"><div class=\"sk-label sk-toggleable\"><input class=\"sk-toggleable__control sk-hidden--visually\" id=\"sk-estimator-id-187\" type=\"checkbox\" ><label for=\"sk-estimator-id-187\" class=\"sk-toggleable__label sk-toggleable__label-arrow\">remainder</label><div class=\"sk-toggleable__content\"><pre></pre></div></div></div><div class=\"sk-serial\"><div class=\"sk-item\"><div class=\"sk-estimator sk-toggleable\"><input class=\"sk-toggleable__control sk-hidden--visually\" id=\"sk-estimator-id-188\" type=\"checkbox\" ><label for=\"sk-estimator-id-188\" class=\"sk-toggleable__label sk-toggleable__label-arrow\">passthrough</label><div class=\"sk-toggleable__content\"><pre>passthrough</pre></div></div></div></div></div></div></div></div><div class=\"sk-item\"><div class=\"sk-estimator sk-toggleable\"><input class=\"sk-toggleable__control sk-hidden--visually\" id=\"sk-estimator-id-189\" type=\"checkbox\" ><label for=\"sk-estimator-id-189\" class=\"sk-toggleable__label sk-toggleable__label-arrow\">GradientBoostingRegressor</label><div class=\"sk-toggleable__content\"><pre>GradientBoostingRegressor()</pre></div></div></div></div></div></div></div>"
      ],
      "text/plain": [
       "Pipeline(steps=[('columntransformer',\n",
       "                 ColumnTransformer(remainder='passthrough',\n",
       "                                   transformers=[('categorical',\n",
       "                                                  OrdinalEncoder(),\n",
       "                                                  ['X1', 'X2', 'X3'])])),\n",
       "                ('gradientboostingregressor', GradientBoostingRegressor())])"
      ]
     },
     "execution_count": 130,
     "metadata": {},
     "output_type": "execute_result"
    }
   ],
   "source": [
    "model = make_pipeline(preprocessor, GradientBoostingRegressor())\n",
    "model"
   ]
  },
  {
   "cell_type": "code",
   "execution_count": 131,
   "id": "a20438e4",
   "metadata": {},
   "outputs": [
    {
     "data": {
      "text/html": [
       "<style>#sk-container-id-28 {color: black;background-color: white;}#sk-container-id-28 pre{padding: 0;}#sk-container-id-28 div.sk-toggleable {background-color: white;}#sk-container-id-28 label.sk-toggleable__label {cursor: pointer;display: block;width: 100%;margin-bottom: 0;padding: 0.3em;box-sizing: border-box;text-align: center;}#sk-container-id-28 label.sk-toggleable__label-arrow:before {content: \"▸\";float: left;margin-right: 0.25em;color: #696969;}#sk-container-id-28 label.sk-toggleable__label-arrow:hover:before {color: black;}#sk-container-id-28 div.sk-estimator:hover label.sk-toggleable__label-arrow:before {color: black;}#sk-container-id-28 div.sk-toggleable__content {max-height: 0;max-width: 0;overflow: hidden;text-align: left;background-color: #f0f8ff;}#sk-container-id-28 div.sk-toggleable__content pre {margin: 0.2em;color: black;border-radius: 0.25em;background-color: #f0f8ff;}#sk-container-id-28 input.sk-toggleable__control:checked~div.sk-toggleable__content {max-height: 200px;max-width: 100%;overflow: auto;}#sk-container-id-28 input.sk-toggleable__control:checked~label.sk-toggleable__label-arrow:before {content: \"▾\";}#sk-container-id-28 div.sk-estimator input.sk-toggleable__control:checked~label.sk-toggleable__label {background-color: #d4ebff;}#sk-container-id-28 div.sk-label input.sk-toggleable__control:checked~label.sk-toggleable__label {background-color: #d4ebff;}#sk-container-id-28 input.sk-hidden--visually {border: 0;clip: rect(1px 1px 1px 1px);clip: rect(1px, 1px, 1px, 1px);height: 1px;margin: -1px;overflow: hidden;padding: 0;position: absolute;width: 1px;}#sk-container-id-28 div.sk-estimator {font-family: monospace;background-color: #f0f8ff;border: 1px dotted black;border-radius: 0.25em;box-sizing: border-box;margin-bottom: 0.5em;}#sk-container-id-28 div.sk-estimator:hover {background-color: #d4ebff;}#sk-container-id-28 div.sk-parallel-item::after {content: \"\";width: 100%;border-bottom: 1px solid gray;flex-grow: 1;}#sk-container-id-28 div.sk-label:hover label.sk-toggleable__label {background-color: #d4ebff;}#sk-container-id-28 div.sk-serial::before {content: \"\";position: absolute;border-left: 1px solid gray;box-sizing: border-box;top: 0;bottom: 0;left: 50%;z-index: 0;}#sk-container-id-28 div.sk-serial {display: flex;flex-direction: column;align-items: center;background-color: white;padding-right: 0.2em;padding-left: 0.2em;position: relative;}#sk-container-id-28 div.sk-item {position: relative;z-index: 1;}#sk-container-id-28 div.sk-parallel {display: flex;align-items: stretch;justify-content: center;background-color: white;position: relative;}#sk-container-id-28 div.sk-item::before, #sk-container-id-28 div.sk-parallel-item::before {content: \"\";position: absolute;border-left: 1px solid gray;box-sizing: border-box;top: 0;bottom: 0;left: 50%;z-index: -1;}#sk-container-id-28 div.sk-parallel-item {display: flex;flex-direction: column;z-index: 1;position: relative;background-color: white;}#sk-container-id-28 div.sk-parallel-item:first-child::after {align-self: flex-end;width: 50%;}#sk-container-id-28 div.sk-parallel-item:last-child::after {align-self: flex-start;width: 50%;}#sk-container-id-28 div.sk-parallel-item:only-child::after {width: 0;}#sk-container-id-28 div.sk-dashed-wrapped {border: 1px dashed gray;margin: 0 0.4em 0.5em 0.4em;box-sizing: border-box;padding-bottom: 0.4em;background-color: white;}#sk-container-id-28 div.sk-label label {font-family: monospace;font-weight: bold;display: inline-block;line-height: 1.2em;}#sk-container-id-28 div.sk-label-container {text-align: center;}#sk-container-id-28 div.sk-container {/* jupyter's `normalize.less` sets `[hidden] { display: none; }` but bootstrap.min.css set `[hidden] { display: none !important; }` so we also need the `!important` here to be able to override the default hidden behavior on the sphinx rendered scikit-learn.org. See: https://github.com/scikit-learn/scikit-learn/issues/21755 */display: inline-block !important;position: relative;}#sk-container-id-28 div.sk-text-repr-fallback {display: none;}</style><div id=\"sk-container-id-28\" class=\"sk-top-container\"><div class=\"sk-text-repr-fallback\"><pre>Pipeline(steps=[(&#x27;columntransformer&#x27;,\n",
       "                 ColumnTransformer(remainder=&#x27;passthrough&#x27;,\n",
       "                                   transformers=[(&#x27;categorical&#x27;,\n",
       "                                                  OrdinalEncoder(),\n",
       "                                                  [&#x27;X1&#x27;, &#x27;X2&#x27;, &#x27;X3&#x27;])])),\n",
       "                (&#x27;gradientboostingregressor&#x27;, GradientBoostingRegressor())])</pre><b>In a Jupyter environment, please rerun this cell to show the HTML representation or trust the notebook. <br />On GitHub, the HTML representation is unable to render, please try loading this page with nbviewer.org.</b></div><div class=\"sk-container\" hidden><div class=\"sk-item sk-dashed-wrapped\"><div class=\"sk-label-container\"><div class=\"sk-label sk-toggleable\"><input class=\"sk-toggleable__control sk-hidden--visually\" id=\"sk-estimator-id-190\" type=\"checkbox\" ><label for=\"sk-estimator-id-190\" class=\"sk-toggleable__label sk-toggleable__label-arrow\">Pipeline</label><div class=\"sk-toggleable__content\"><pre>Pipeline(steps=[(&#x27;columntransformer&#x27;,\n",
       "                 ColumnTransformer(remainder=&#x27;passthrough&#x27;,\n",
       "                                   transformers=[(&#x27;categorical&#x27;,\n",
       "                                                  OrdinalEncoder(),\n",
       "                                                  [&#x27;X1&#x27;, &#x27;X2&#x27;, &#x27;X3&#x27;])])),\n",
       "                (&#x27;gradientboostingregressor&#x27;, GradientBoostingRegressor())])</pre></div></div></div><div class=\"sk-serial\"><div class=\"sk-item sk-dashed-wrapped\"><div class=\"sk-label-container\"><div class=\"sk-label sk-toggleable\"><input class=\"sk-toggleable__control sk-hidden--visually\" id=\"sk-estimator-id-191\" type=\"checkbox\" ><label for=\"sk-estimator-id-191\" class=\"sk-toggleable__label sk-toggleable__label-arrow\">columntransformer: ColumnTransformer</label><div class=\"sk-toggleable__content\"><pre>ColumnTransformer(remainder=&#x27;passthrough&#x27;,\n",
       "                  transformers=[(&#x27;categorical&#x27;, OrdinalEncoder(),\n",
       "                                 [&#x27;X1&#x27;, &#x27;X2&#x27;, &#x27;X3&#x27;])])</pre></div></div></div><div class=\"sk-parallel\"><div class=\"sk-parallel-item\"><div class=\"sk-item\"><div class=\"sk-label-container\"><div class=\"sk-label sk-toggleable\"><input class=\"sk-toggleable__control sk-hidden--visually\" id=\"sk-estimator-id-192\" type=\"checkbox\" ><label for=\"sk-estimator-id-192\" class=\"sk-toggleable__label sk-toggleable__label-arrow\">categorical</label><div class=\"sk-toggleable__content\"><pre>[&#x27;X1&#x27;, &#x27;X2&#x27;, &#x27;X3&#x27;]</pre></div></div></div><div class=\"sk-serial\"><div class=\"sk-item\"><div class=\"sk-estimator sk-toggleable\"><input class=\"sk-toggleable__control sk-hidden--visually\" id=\"sk-estimator-id-193\" type=\"checkbox\" ><label for=\"sk-estimator-id-193\" class=\"sk-toggleable__label sk-toggleable__label-arrow\">OrdinalEncoder</label><div class=\"sk-toggleable__content\"><pre>OrdinalEncoder()</pre></div></div></div></div></div></div><div class=\"sk-parallel-item\"><div class=\"sk-item\"><div class=\"sk-label-container\"><div class=\"sk-label sk-toggleable\"><input class=\"sk-toggleable__control sk-hidden--visually\" id=\"sk-estimator-id-194\" type=\"checkbox\" ><label for=\"sk-estimator-id-194\" class=\"sk-toggleable__label sk-toggleable__label-arrow\">remainder</label><div class=\"sk-toggleable__content\"><pre>[&#x27;X4&#x27;, &#x27;X5&#x27;, &#x27;X6&#x27;]</pre></div></div></div><div class=\"sk-serial\"><div class=\"sk-item\"><div class=\"sk-estimator sk-toggleable\"><input class=\"sk-toggleable__control sk-hidden--visually\" id=\"sk-estimator-id-195\" type=\"checkbox\" ><label for=\"sk-estimator-id-195\" class=\"sk-toggleable__label sk-toggleable__label-arrow\">passthrough</label><div class=\"sk-toggleable__content\"><pre>passthrough</pre></div></div></div></div></div></div></div></div><div class=\"sk-item\"><div class=\"sk-estimator sk-toggleable\"><input class=\"sk-toggleable__control sk-hidden--visually\" id=\"sk-estimator-id-196\" type=\"checkbox\" ><label for=\"sk-estimator-id-196\" class=\"sk-toggleable__label sk-toggleable__label-arrow\">GradientBoostingRegressor</label><div class=\"sk-toggleable__content\"><pre>GradientBoostingRegressor()</pre></div></div></div></div></div></div></div>"
      ],
      "text/plain": [
       "Pipeline(steps=[('columntransformer',\n",
       "                 ColumnTransformer(remainder='passthrough',\n",
       "                                   transformers=[('categorical',\n",
       "                                                  OrdinalEncoder(),\n",
       "                                                  ['X1', 'X2', 'X3'])])),\n",
       "                ('gradientboostingregressor', GradientBoostingRegressor())])"
      ]
     },
     "execution_count": 131,
     "metadata": {},
     "output_type": "execute_result"
    }
   ],
   "source": [
    "model.fit(x_train, y_train)"
   ]
  },
  {
   "cell_type": "markdown",
   "id": "d5483a64",
   "metadata": {},
   "source": [
    "### Test and evaluate model"
   ]
  },
  {
   "cell_type": "code",
   "execution_count": 132,
   "id": "ad314dd6",
   "metadata": {},
   "outputs": [
    {
     "name": "stdout",
     "output_type": "stream",
     "text": [
      "MSE: 54136438.98497468\n",
      "RMSE: 7357.746868775433\n",
      "R2: 0.14291268789202738\n"
     ]
    },
    {
     "data": {
      "image/png": "[encoded data removed]",
      "text/plain": [
       "<Figure size 640x480 with 1 Axes>"
      ]
     },
     "metadata": {},
     "output_type": "display_data"
    }
   ],
   "source": [
    "y_predict = model.predict(x_test)\n",
    "regression_evaluation(y_test, y_predict)"
   ]
  },
  {
   "cell_type": "markdown",
   "id": "7fc9d1c9",
   "metadata": {},
   "source": [
    "## 3. Deep learning"
   ]
  },
  {
   "cell_type": "code",
   "execution_count": 133,
   "id": "385937c5",
   "metadata": {},
   "outputs": [],
   "source": [
    "#Feature engineering\n",
    "x_train_nor,x_test_nor=process_attributes(df, x_train, x_test)"
   ]
  },
  {
   "cell_type": "code",
   "execution_count": 134,
   "id": "47d35eb1",
   "metadata": {},
   "outputs": [
    {
     "name": "stdout",
     "output_type": "stream",
     "text": [
      "Epoch 1/200\n",
      "94/94 - 0s - loss: 99012424.0000 - mae: 5870.6919\n",
      "Epoch 2/200\n",
      "94/94 - 0s - loss: 98925224.0000 - mae: 5865.6631\n",
      "Epoch 3/200\n",
      "94/94 - 0s - loss: 98554536.0000 - mae: 5847.2026\n",
      "Epoch 4/200\n",
      "94/94 - 0s - loss: 97599992.0000 - mae: 5810.4561\n",
      "Epoch 5/200\n",
      "94/94 - 0s - loss: 95853592.0000 - mae: 5759.0562\n",
      "Epoch 6/200\n",
      "94/94 - 0s - loss: 93146904.0000 - mae: 5700.6299\n",
      "Epoch 7/200\n",
      "94/94 - 0s - loss: 89474072.0000 - mae: 5641.1216\n",
      "Epoch 8/200\n",
      "94/94 - 0s - loss: 85053672.0000 - mae: 5577.8706\n",
      "Epoch 9/200\n",
      "94/94 - 0s - loss: 80178528.0000 - mae: 5514.0195\n",
      "Epoch 10/200\n",
      "94/94 - 0s - loss: 75209600.0000 - mae: 5469.9062\n",
      "Epoch 11/200\n",
      "94/94 - 0s - loss: 70449592.0000 - mae: 5409.9170\n",
      "Epoch 12/200\n",
      "94/94 - 0s - loss: 66144068.0000 - mae: 5365.2114\n",
      "Epoch 13/200\n",
      "94/94 - 0s - loss: 62616488.0000 - mae: 5378.5176\n",
      "Epoch 14/200\n",
      "94/94 - 0s - loss: 59898980.0000 - mae: 5552.6411\n",
      "Epoch 15/200\n",
      "94/94 - 0s - loss: 57884980.0000 - mae: 5721.7769\n",
      "Epoch 16/200\n",
      "94/94 - 0s - loss: 56490916.0000 - mae: 5834.8311\n",
      "Epoch 17/200\n",
      "94/94 - 0s - loss: 55508112.0000 - mae: 5928.1724\n",
      "Epoch 18/200\n",
      "94/94 - 0s - loss: 54832204.0000 - mae: 6002.3916\n",
      "Epoch 19/200\n",
      "94/94 - 0s - loss: 54356356.0000 - mae: 6034.6191\n",
      "Epoch 20/200\n",
      "94/94 - 0s - loss: 53998680.0000 - mae: 6067.0581\n",
      "Epoch 21/200\n",
      "94/94 - 0s - loss: 53717752.0000 - mae: 6083.8774\n",
      "Epoch 22/200\n",
      "94/94 - 0s - loss: 53500828.0000 - mae: 6064.6699\n",
      "Epoch 23/200\n",
      "94/94 - 0s - loss: 53304900.0000 - mae: 6067.3213\n",
      "Epoch 24/200\n",
      "94/94 - 0s - loss: 53148944.0000 - mae: 6056.3799\n",
      "Epoch 25/200\n",
      "94/94 - 0s - loss: 53019868.0000 - mae: 6035.1064\n",
      "Epoch 26/200\n",
      "94/94 - 0s - loss: 52887240.0000 - mae: 6020.2778\n",
      "Epoch 27/200\n",
      "94/94 - 0s - loss: 52780968.0000 - mae: 6011.8335\n",
      "Epoch 28/200\n",
      "94/94 - 0s - loss: 52705188.0000 - mae: 5997.1021\n",
      "Epoch 29/200\n",
      "94/94 - 0s - loss: 52592268.0000 - mae: 5989.5449\n",
      "Epoch 30/200\n",
      "94/94 - 0s - loss: 52520104.0000 - mae: 5979.2407\n",
      "Epoch 31/200\n",
      "94/94 - 0s - loss: 52448064.0000 - mae: 5964.3320\n",
      "Epoch 32/200\n",
      "94/94 - 0s - loss: 52374392.0000 - mae: 5947.8364\n",
      "Epoch 33/200\n",
      "94/94 - 0s - loss: 52321884.0000 - mae: 5917.3364\n",
      "Epoch 34/200\n",
      "94/94 - 0s - loss: 52257984.0000 - mae: 5909.2773\n",
      "Epoch 35/200\n",
      "94/94 - 0s - loss: 52206196.0000 - mae: 5900.7031\n",
      "Epoch 36/200\n",
      "94/94 - 0s - loss: 52187652.0000 - mae: 5890.1372\n",
      "Epoch 37/200\n",
      "94/94 - 0s - loss: 52122352.0000 - mae: 5875.6445\n",
      "Epoch 38/200\n",
      "94/94 - 0s - loss: 52090316.0000 - mae: 5878.2808\n",
      "Epoch 39/200\n",
      "94/94 - 0s - loss: 52049188.0000 - mae: 5857.9980\n",
      "Epoch 40/200\n",
      "94/94 - 0s - loss: 52035684.0000 - mae: 5845.2822\n",
      "Epoch 41/200\n",
      "94/94 - 0s - loss: 51992744.0000 - mae: 5837.5361\n",
      "Epoch 42/200\n",
      "94/94 - 0s - loss: 51970048.0000 - mae: 5828.6436\n",
      "Epoch 43/200\n",
      "94/94 - 0s - loss: 51927752.0000 - mae: 5827.7407\n",
      "Epoch 44/200\n",
      "94/94 - 0s - loss: 51919340.0000 - mae: 5817.7051\n",
      "Epoch 45/200\n",
      "94/94 - 0s - loss: 51891700.0000 - mae: 5816.2524\n",
      "Epoch 46/200\n",
      "94/94 - 0s - loss: 51874588.0000 - mae: 5806.1128\n",
      "Epoch 47/200\n",
      "94/94 - 0s - loss: 51870200.0000 - mae: 5802.3247\n",
      "Epoch 48/200\n",
      "94/94 - 0s - loss: 51836232.0000 - mae: 5782.9263\n",
      "Epoch 49/200\n",
      "94/94 - 0s - loss: 51824212.0000 - mae: 5775.3696\n",
      "Epoch 50/200\n",
      "94/94 - 0s - loss: 51809340.0000 - mae: 5771.7397\n",
      "Epoch 51/200\n",
      "94/94 - 0s - loss: 51796076.0000 - mae: 5778.4209\n",
      "Epoch 52/200\n",
      "94/94 - 0s - loss: 51786676.0000 - mae: 5757.2983\n",
      "Epoch 53/200\n",
      "94/94 - 0s - loss: 51770536.0000 - mae: 5759.2173\n",
      "Epoch 54/200\n",
      "94/94 - 0s - loss: 51762492.0000 - mae: 5764.6826\n",
      "Epoch 55/200\n",
      "94/94 - 0s - loss: 51747948.0000 - mae: 5749.5962\n",
      "Epoch 56/200\n",
      "94/94 - 0s - loss: 51744264.0000 - mae: 5736.6489\n",
      "Epoch 57/200\n",
      "94/94 - 0s - loss: 51734152.0000 - mae: 5745.2427\n",
      "Epoch 58/200\n",
      "94/94 - 0s - loss: 51724732.0000 - mae: 5749.0674\n",
      "Epoch 59/200\n",
      "94/94 - 0s - loss: 51716704.0000 - mae: 5735.7769\n",
      "Epoch 60/200\n",
      "94/94 - 0s - loss: 51713020.0000 - mae: 5738.8066\n",
      "Epoch 61/200\n",
      "94/94 - 0s - loss: 51728232.0000 - mae: 5721.9634\n",
      "Epoch 62/200\n",
      "94/94 - 0s - loss: 51697424.0000 - mae: 5735.6919\n",
      "Epoch 63/200\n",
      "94/94 - 0s - loss: 51691532.0000 - mae: 5722.6001\n",
      "Epoch 64/200\n",
      "94/94 - 0s - loss: 51717704.0000 - mae: 5722.7466\n",
      "Epoch 65/200\n",
      "94/94 - 0s - loss: 51677968.0000 - mae: 5727.1118\n",
      "Epoch 66/200\n",
      "94/94 - 0s - loss: 51671544.0000 - mae: 5710.2065\n",
      "Epoch 67/200\n",
      "94/94 - 0s - loss: 51676560.0000 - mae: 5708.6055\n",
      "Epoch 68/200\n",
      "94/94 - 0s - loss: 51660696.0000 - mae: 5703.8682\n",
      "Epoch 69/200\n",
      "94/94 - 0s - loss: 51654060.0000 - mae: 5709.5640\n",
      "Epoch 70/200\n",
      "94/94 - 0s - loss: 51664648.0000 - mae: 5715.0015\n",
      "Epoch 71/200\n",
      "94/94 - 0s - loss: 51664808.0000 - mae: 5709.6162\n",
      "Epoch 72/200\n",
      "94/94 - 0s - loss: 51645260.0000 - mae: 5697.4893\n",
      "Epoch 73/200\n",
      "94/94 - 0s - loss: 51647340.0000 - mae: 5699.4741\n",
      "Epoch 74/200\n",
      "94/94 - 0s - loss: 51640444.0000 - mae: 5692.5649\n",
      "Epoch 75/200\n",
      "94/94 - 0s - loss: 51640096.0000 - mae: 5691.5630\n",
      "Epoch 76/200\n",
      "94/94 - 0s - loss: 51631888.0000 - mae: 5691.2446\n",
      "Epoch 77/200\n",
      "94/94 - 0s - loss: 51632316.0000 - mae: 5685.1816\n",
      "Epoch 78/200\n",
      "94/94 - 0s - loss: 51631020.0000 - mae: 5695.0400\n",
      "Epoch 79/200\n",
      "94/94 - 0s - loss: 51618768.0000 - mae: 5691.5791\n",
      "Epoch 80/200\n",
      "94/94 - 0s - loss: 51626848.0000 - mae: 5710.4316\n",
      "Epoch 81/200\n",
      "94/94 - 0s - loss: 51616964.0000 - mae: 5686.8574\n",
      "Epoch 82/200\n",
      "94/94 - 0s - loss: 51612600.0000 - mae: 5694.5762\n",
      "Epoch 83/200\n",
      "94/94 - 0s - loss: 51605680.0000 - mae: 5681.8916\n",
      "Epoch 84/200\n",
      "94/94 - 0s - loss: 51608548.0000 - mae: 5684.9224\n",
      "Epoch 85/200\n",
      "94/94 - 0s - loss: 51604076.0000 - mae: 5695.7847\n",
      "Epoch 86/200\n",
      "94/94 - 0s - loss: 51599080.0000 - mae: 5686.6353\n",
      "Epoch 87/200\n",
      "94/94 - 0s - loss: 51603696.0000 - mae: 5683.5615\n",
      "Epoch 88/200\n",
      "94/94 - 0s - loss: 51594576.0000 - mae: 5681.8574\n",
      "Epoch 89/200\n",
      "94/94 - 0s - loss: 51588180.0000 - mae: 5673.0254\n",
      "Epoch 90/200\n",
      "94/94 - 0s - loss: 51607000.0000 - mae: 5680.0547\n",
      "Epoch 91/200\n",
      "94/94 - 0s - loss: 51597604.0000 - mae: 5683.1831\n",
      "Epoch 92/200\n",
      "94/94 - 0s - loss: 51602772.0000 - mae: 5673.8223\n",
      "Epoch 93/200\n",
      "94/94 - 0s - loss: 51589240.0000 - mae: 5684.0229\n",
      "Epoch 94/200\n",
      "94/94 - 0s - loss: 51595960.0000 - mae: 5680.5249\n",
      "Epoch 95/200\n",
      "94/94 - 0s - loss: 51593092.0000 - mae: 5662.9580\n",
      "Epoch 96/200\n",
      "94/94 - 0s - loss: 51581600.0000 - mae: 5669.1577\n",
      "Epoch 97/200\n",
      "94/94 - 0s - loss: 51577920.0000 - mae: 5677.6377\n",
      "Epoch 98/200\n",
      "94/94 - 0s - loss: 51604316.0000 - mae: 5674.2915\n",
      "Epoch 99/200\n",
      "94/94 - 0s - loss: 51575764.0000 - mae: 5673.1606\n",
      "Epoch 100/200\n",
      "94/94 - 0s - loss: 51567672.0000 - mae: 5676.1021\n",
      "Epoch 101/200\n",
      "94/94 - 0s - loss: 51566624.0000 - mae: 5675.2632\n",
      "Epoch 102/200\n",
      "94/94 - 0s - loss: 51575276.0000 - mae: 5673.2734\n",
      "Epoch 103/200\n",
      "94/94 - 0s - loss: 51576176.0000 - mae: 5665.3315\n",
      "Epoch 104/200\n",
      "94/94 - 0s - loss: 51560364.0000 - mae: 5661.6216\n",
      "Epoch 105/200\n",
      "94/94 - 0s - loss: 51560444.0000 - mae: 5668.8403\n",
      "Epoch 106/200\n",
      "94/94 - 0s - loss: 51565184.0000 - mae: 5677.2373\n",
      "Epoch 107/200\n",
      "94/94 - 0s - loss: 51572316.0000 - mae: 5674.6226\n",
      "Epoch 108/200\n",
      "94/94 - 0s - loss: 51561596.0000 - mae: 5670.2041\n",
      "Epoch 109/200\n",
      "94/94 - 0s - loss: 51560628.0000 - mae: 5677.3027\n",
      "Epoch 110/200\n",
      "94/94 - 0s - loss: 51570128.0000 - mae: 5662.0342\n",
      "Epoch 111/200\n",
      "94/94 - 0s - loss: 51562596.0000 - mae: 5681.1108\n",
      "Epoch 112/200\n",
      "94/94 - 0s - loss: 51562804.0000 - mae: 5664.4658\n",
      "Epoch 113/200\n",
      "94/94 - 0s - loss: 51574580.0000 - mae: 5663.6572\n",
      "Epoch 114/200\n",
      "94/94 - 0s - loss: 51558696.0000 - mae: 5664.4077\n",
      "Epoch 115/200\n",
      "94/94 - 0s - loss: 51550196.0000 - mae: 5666.0762\n",
      "Epoch 116/200\n",
      "94/94 - 0s - loss: 51559484.0000 - mae: 5677.7305\n",
      "Epoch 117/200\n",
      "94/94 - 0s - loss: 51552004.0000 - mae: 5667.3110\n",
      "Epoch 118/200\n",
      "94/94 - 0s - loss: 51546696.0000 - mae: 5663.9814\n",
      "Epoch 119/200\n",
      "94/94 - 0s - loss: 51550248.0000 - mae: 5666.7324\n",
      "Epoch 120/200\n",
      "94/94 - 0s - loss: 51552780.0000 - mae: 5664.3643\n",
      "Epoch 121/200\n",
      "94/94 - 0s - loss: 51541896.0000 - mae: 5653.8662\n",
      "Epoch 122/200\n",
      "94/94 - 0s - loss: 51550668.0000 - mae: 5668.5474\n",
      "Epoch 123/200\n",
      "94/94 - 0s - loss: 51547932.0000 - mae: 5661.3428\n",
      "Epoch 124/200\n",
      "94/94 - 0s - loss: 51546248.0000 - mae: 5668.5366\n",
      "Epoch 125/200\n",
      "94/94 - 0s - loss: 51556172.0000 - mae: 5653.3838\n",
      "Epoch 126/200\n",
      "94/94 - 0s - loss: 51560640.0000 - mae: 5673.2646\n",
      "Epoch 127/200\n",
      "94/94 - 0s - loss: 51551840.0000 - mae: 5661.2920\n",
      "Epoch 128/200\n",
      "94/94 - 0s - loss: 51541152.0000 - mae: 5663.6265\n",
      "Epoch 129/200\n",
      "94/94 - 0s - loss: 51540516.0000 - mae: 5655.0332\n",
      "Epoch 130/200\n",
      "94/94 - 0s - loss: 51537104.0000 - mae: 5651.3428\n"
     ]
    },
    {
     "name": "stdout",
     "output_type": "stream",
     "text": [
      "Epoch 131/200\n",
      "94/94 - 0s - loss: 51550220.0000 - mae: 5643.9624\n",
      "Epoch 132/200\n",
      "94/94 - 0s - loss: 51544628.0000 - mae: 5679.5864\n",
      "Epoch 133/200\n",
      "94/94 - 0s - loss: 51535856.0000 - mae: 5663.7446\n",
      "Epoch 134/200\n",
      "94/94 - 0s - loss: 51535456.0000 - mae: 5659.9941\n",
      "Epoch 135/200\n",
      "94/94 - 0s - loss: 51533048.0000 - mae: 5665.6416\n",
      "Epoch 136/200\n",
      "94/94 - 0s - loss: 51534448.0000 - mae: 5660.0049\n",
      "Epoch 137/200\n",
      "94/94 - 0s - loss: 51531596.0000 - mae: 5668.8989\n",
      "Epoch 138/200\n",
      "94/94 - 0s - loss: 51540312.0000 - mae: 5671.2588\n",
      "Epoch 139/200\n",
      "94/94 - 0s - loss: 51531508.0000 - mae: 5651.4463\n",
      "Epoch 140/200\n",
      "94/94 - 0s - loss: 51530712.0000 - mae: 5662.2427\n",
      "Epoch 141/200\n",
      "94/94 - 0s - loss: 51529120.0000 - mae: 5667.3276\n",
      "Epoch 142/200\n",
      "94/94 - 0s - loss: 51526108.0000 - mae: 5663.0474\n",
      "Epoch 143/200\n",
      "94/94 - 0s - loss: 51540024.0000 - mae: 5664.0205\n",
      "Epoch 144/200\n",
      "94/94 - 0s - loss: 51528892.0000 - mae: 5659.9092\n",
      "Epoch 145/200\n",
      "94/94 - 0s - loss: 51527176.0000 - mae: 5655.9976\n",
      "Epoch 146/200\n",
      "94/94 - 0s - loss: 51538308.0000 - mae: 5649.0249\n",
      "Epoch 147/200\n",
      "94/94 - 0s - loss: 51527032.0000 - mae: 5670.3223\n",
      "Epoch 148/200\n",
      "94/94 - 0s - loss: 51534272.0000 - mae: 5667.0420\n",
      "Epoch 149/200\n",
      "94/94 - 0s - loss: 51520644.0000 - mae: 5656.6211\n",
      "Epoch 150/200\n",
      "94/94 - 0s - loss: 51524108.0000 - mae: 5667.1953\n",
      "Epoch 151/200\n",
      "94/94 - 0s - loss: 51519684.0000 - mae: 5655.7397\n",
      "Epoch 152/200\n",
      "94/94 - 0s - loss: 51525488.0000 - mae: 5663.2051\n",
      "Epoch 153/200\n",
      "94/94 - 0s - loss: 51538116.0000 - mae: 5655.3926\n",
      "Epoch 154/200\n",
      "94/94 - 0s - loss: 51514676.0000 - mae: 5659.7827\n",
      "Epoch 155/200\n",
      "94/94 - 0s - loss: 51512644.0000 - mae: 5657.5073\n",
      "Epoch 156/200\n",
      "94/94 - 0s - loss: 51521376.0000 - mae: 5662.9932\n",
      "Epoch 157/200\n",
      "94/94 - 0s - loss: 51518372.0000 - mae: 5655.4619\n",
      "Epoch 158/200\n",
      "94/94 - 0s - loss: 51522548.0000 - mae: 5646.6787\n",
      "Epoch 159/200\n",
      "94/94 - 0s - loss: 51525524.0000 - mae: 5658.9258\n",
      "Epoch 160/200\n",
      "94/94 - 0s - loss: 51516624.0000 - mae: 5663.3228\n",
      "Epoch 161/200\n",
      "94/94 - 0s - loss: 51528536.0000 - mae: 5668.1582\n",
      "Epoch 162/200\n",
      "94/94 - 0s - loss: 51519296.0000 - mae: 5669.0215\n",
      "Epoch 163/200\n",
      "94/94 - 0s - loss: 51509220.0000 - mae: 5647.0088\n",
      "Epoch 164/200\n",
      "94/94 - 0s - loss: 51513360.0000 - mae: 5660.7461\n",
      "Epoch 165/200\n",
      "94/94 - 0s - loss: 51511164.0000 - mae: 5653.4805\n",
      "Epoch 166/200\n",
      "94/94 - 0s - loss: 51521492.0000 - mae: 5663.2676\n",
      "Epoch 167/200\n",
      "94/94 - 0s - loss: 51500832.0000 - mae: 5649.8950\n",
      "Epoch 168/200\n",
      "94/94 - 0s - loss: 51512152.0000 - mae: 5658.6753\n",
      "Epoch 169/200\n",
      "94/94 - 0s - loss: 51502952.0000 - mae: 5649.7778\n",
      "Epoch 170/200\n",
      "94/94 - 0s - loss: 51509468.0000 - mae: 5664.3535\n",
      "Epoch 171/200\n",
      "94/94 - 0s - loss: 51500348.0000 - mae: 5653.6362\n",
      "Epoch 172/200\n",
      "94/94 - 0s - loss: 51504400.0000 - mae: 5662.4253\n",
      "Epoch 173/200\n",
      "94/94 - 0s - loss: 51506444.0000 - mae: 5650.4385\n",
      "Epoch 174/200\n",
      "94/94 - 0s - loss: 51512428.0000 - mae: 5671.4546\n",
      "Epoch 175/200\n",
      "94/94 - 0s - loss: 51497940.0000 - mae: 5656.1338\n",
      "Epoch 176/200\n",
      "94/94 - 0s - loss: 51495332.0000 - mae: 5648.3569\n",
      "Epoch 177/200\n",
      "94/94 - 0s - loss: 51502032.0000 - mae: 5651.6997\n",
      "Epoch 178/200\n",
      "94/94 - 0s - loss: 51499576.0000 - mae: 5658.7808\n",
      "Epoch 179/200\n",
      "94/94 - 0s - loss: 51497884.0000 - mae: 5658.7715\n",
      "Epoch 180/200\n",
      "94/94 - 0s - loss: 51501648.0000 - mae: 5652.8149\n",
      "Epoch 181/200\n",
      "94/94 - 0s - loss: 51498820.0000 - mae: 5649.5908\n",
      "Epoch 182/200\n",
      "94/94 - 0s - loss: 51501536.0000 - mae: 5663.4697\n",
      "Epoch 183/200\n",
      "94/94 - 0s - loss: 51521160.0000 - mae: 5651.9565\n",
      "Epoch 184/200\n",
      "94/94 - 0s - loss: 51492552.0000 - mae: 5656.2300\n",
      "Epoch 185/200\n",
      "94/94 - 0s - loss: 51497180.0000 - mae: 5655.7178\n",
      "Epoch 186/200\n",
      "94/94 - 0s - loss: 51500540.0000 - mae: 5672.6377\n",
      "Epoch 187/200\n",
      "94/94 - 0s - loss: 51491156.0000 - mae: 5657.9072\n",
      "Epoch 188/200\n",
      "94/94 - 0s - loss: 51497288.0000 - mae: 5653.7939\n",
      "Epoch 189/200\n",
      "94/94 - 0s - loss: 51492972.0000 - mae: 5645.1680\n",
      "Epoch 190/200\n",
      "94/94 - 0s - loss: 51492596.0000 - mae: 5660.2939\n",
      "Epoch 191/200\n",
      "94/94 - 0s - loss: 51483192.0000 - mae: 5659.2549\n",
      "Epoch 192/200\n",
      "94/94 - 0s - loss: 51491140.0000 - mae: 5666.9126\n",
      "Epoch 193/200\n",
      "94/94 - 0s - loss: 51494940.0000 - mae: 5662.7407\n",
      "Epoch 194/200\n",
      "94/94 - 0s - loss: 51482476.0000 - mae: 5652.9233\n",
      "Epoch 195/200\n",
      "94/94 - 0s - loss: 51495256.0000 - mae: 5653.4414\n",
      "Epoch 196/200\n",
      "94/94 - 0s - loss: 51487888.0000 - mae: 5647.4092\n",
      "Epoch 197/200\n",
      "94/94 - 0s - loss: 51481524.0000 - mae: 5661.2739\n",
      "Epoch 198/200\n",
      "94/94 - 0s - loss: 51490456.0000 - mae: 5658.8154\n",
      "Epoch 199/200\n",
      "94/94 - 0s - loss: 51485132.0000 - mae: 5649.2983\n",
      "Epoch 200/200\n",
      "94/94 - 0s - loss: 51487224.0000 - mae: 5662.5381\n"
     ]
    },
    {
     "data": {
      "text/plain": [
       "<tensorflow.python.keras.callbacks.History at 0x7f40fbfb8940>"
      ]
     },
     "execution_count": 134,
     "metadata": {},
     "output_type": "execute_result"
    }
   ],
   "source": [
    "#Build the model\n",
    "model = Sequential()\n",
    "model.add(Dense(20, input_dim=x_train_nor.shape[1], activation='relu'))\n",
    "model.add(Dense(20, activation='relu'))\n",
    "model.add(Dense(1, activation='linear'))\n",
    "#Compile the model\n",
    "model.compile(loss='mse', optimizer='adam', metrics=['mae'])\n",
    "#Train the model\n",
    "model.fit(x_train_nor, y_train.values, epochs=200, batch_size=16, verbose=2)"
   ]
  },
  {
   "cell_type": "markdown",
   "id": "b937dbb4",
   "metadata": {},
   "source": [
    "### Test and evaluate model"
   ]
  },
  {
   "cell_type": "code",
   "execution_count": 135,
   "id": "e0256833",
   "metadata": {},
   "outputs": [
    {
     "name": "stdout",
     "output_type": "stream",
     "text": [
      "MSE: 53845597.48997955\n",
      "RMSE: 7337.955947672318\n",
      "R2: 0.14751728619713622\n"
     ]
    },
    {
     "data": {
      "image/png": "[encoded data removed]",
      "text/plain": [
       "<Figure size 640x480 with 1 Axes>"
      ]
     },
     "metadata": {},
     "output_type": "display_data"
    }
   ],
   "source": [
    "y_predict=model.predict(x_test_nor)\n",
    "regression_evaluation(y_test, y_predict)"
   ]
  },
  {
   "cell_type": "code",
   "execution_count": null,
   "id": "a77ca743",
   "metadata": {},
   "outputs": [],
   "source": []
  }
 ],
 "metadata": {
  "kernelspec": {
   "display_name": "Python 3 (ipykernel)",
   "language": "python",
   "name": "python3"
  },
  "language_info": {
   "codemirror_mode": {
    "name": "ipython",
    "version": 3
   },
   "file_extension": ".py",
   "mimetype": "text/x-python",
   "name": "python",
   "nbconvert_exporter": "python",
   "pygments_lexer": "ipython3",
   "version": "3.8.6"
  }
 },
 "nbformat": 4,
 "nbformat_minor": 5
}
